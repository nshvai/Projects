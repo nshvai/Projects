{
 "metadata": {
  "name": ""
 },
 "nbformat": 3,
 "nbformat_minor": 0,
 "worksheets": [
  {
   "cells": [
    {
     "cell_type": "heading",
     "level": 1,
     "metadata": {},
     "source": [
      "\u0410\u043d\u0430\u043b\u0438\u0437 \u0443\u0440\u043e\u0432\u043d\u044f \u0434\u043e\u0445\u043e\u0434\u043e\u0432"
     ]
    },
    {
     "cell_type": "code",
     "collapsed": false,
     "input": [
      "import numpy as np\n",
      "import pandas as pd\n",
      "import pylab as pl"
     ],
     "language": "python",
     "metadata": {},
     "outputs": [],
     "prompt_number": 282
    },
    {
     "cell_type": "markdown",
     "metadata": {},
     "source": [
      "\u0417\u0430\u0433\u0440\u0443\u0437\u0438\u043c \u0434\u0430\u043d\u043d\u044b\u0435"
     ]
    },
    {
     "cell_type": "code",
     "collapsed": false,
     "input": [
      "df = pd.read_csv('train.csv')"
     ],
     "language": "python",
     "metadata": {},
     "outputs": [],
     "prompt_number": 91
    },
    {
     "cell_type": "markdown",
     "metadata": {},
     "source": [
      "\u041f\u0440\u043e\u0441\u043c\u043e\u0442\u0440\u0438\u043c \u0448\u0430\u043f\u043a\u0443 \u0444\u0430\u0439\u043b\u0430:"
     ]
    },
    {
     "cell_type": "code",
     "collapsed": false,
     "input": [
      "df.head(10)"
     ],
     "language": "python",
     "metadata": {},
     "outputs": [
      {
       "html": [
        "<div style=\"max-height:1000px;max-width:1500px;overflow:auto;\">\n",
        "<table border=\"1\" class=\"dataframe\">\n",
        "  <thead>\n",
        "    <tr style=\"text-align: right;\">\n",
        "      <th></th>\n",
        "      <th>AAGE</th>\n",
        "      <th>ACLSWKR</th>\n",
        "      <th>ADTIND</th>\n",
        "      <th>ADTOCC</th>\n",
        "      <th>AHGA</th>\n",
        "      <th>AHRSPAY</th>\n",
        "      <th>AHSCOL</th>\n",
        "      <th>AMARITL</th>\n",
        "      <th>AMJIND</th>\n",
        "      <th>AMJOCC</th>\n",
        "      <th>ARACE</th>\n",
        "      <th>AREORGN</th>\n",
        "      <th>ASEX</th>\n",
        "      <th>AUNMEM</th>\n",
        "      <th>AUNTYPE</th>\n",
        "      <th>AWKSTAT</th>\n",
        "      <th>CAPGAIN</th>\n",
        "      <th>CAPLOSS</th>\n",
        "      <th>DIVVAL</th>\n",
        "      <th>FILESTAT</th>\n",
        "      <th></th>\n",
        "    </tr>\n",
        "  </thead>\n",
        "  <tbody>\n",
        "    <tr>\n",
        "      <th>0</th>\n",
        "      <td> 43</td>\n",
        "      <td>               LocalGovernment</td>\n",
        "      <td> 43</td>\n",
        "      <td> 10</td>\n",
        "      <td> Mastersdegree(MAMSMEngMEdMSWMBA)</td>\n",
        "      <td>   0</td>\n",
        "      <td> Not_in_universe</td>\n",
        "      <td> Married-civilianspousepresent</td>\n",
        "      <td>                     Education</td>\n",
        "      <td>       Professionalspecialty</td>\n",
        "      <td> White</td>\n",
        "      <td> Allother</td>\n",
        "      <td> Female</td>\n",
        "      <td> Not_in_universe</td>\n",
        "      <td> Not_in_universe</td>\n",
        "      <td> ChildrenorArmedForces</td>\n",
        "      <td>     0</td>\n",
        "      <td> 0</td>\n",
        "      <td>    2</td>\n",
        "      <td> Jointbothunder65</td>\n",
        "      <td>...</td>\n",
        "    </tr>\n",
        "    <tr>\n",
        "      <th>1</th>\n",
        "      <td>  0</td>\n",
        "      <td>               Not_in_universe</td>\n",
        "      <td>  0</td>\n",
        "      <td>  0</td>\n",
        "      <td>                         Children</td>\n",
        "      <td>   0</td>\n",
        "      <td> Not_in_universe</td>\n",
        "      <td>                  Nevermarried</td>\n",
        "      <td>     Not_in_universeorchildren</td>\n",
        "      <td>             Not_in_universe</td>\n",
        "      <td> White</td>\n",
        "      <td> Allother</td>\n",
        "      <td>   Male</td>\n",
        "      <td> Not_in_universe</td>\n",
        "      <td> Not_in_universe</td>\n",
        "      <td> ChildrenorArmedForces</td>\n",
        "      <td>     0</td>\n",
        "      <td> 0</td>\n",
        "      <td>    0</td>\n",
        "      <td>         Nonfiler</td>\n",
        "      <td>...</td>\n",
        "    </tr>\n",
        "    <tr>\n",
        "      <th>2</th>\n",
        "      <td> 44</td>\n",
        "      <td>                       Private</td>\n",
        "      <td> 11</td>\n",
        "      <td> 22</td>\n",
        "      <td>           Somecollegebutnodegree</td>\n",
        "      <td>   0</td>\n",
        "      <td> Not_in_universe</td>\n",
        "      <td> Married-civilianspousepresent</td>\n",
        "      <td>    Manufacturing-durablegoods</td>\n",
        "      <td> Admsupportincludingclerical</td>\n",
        "      <td> White</td>\n",
        "      <td> Allother</td>\n",
        "      <td> Female</td>\n",
        "      <td> Not_in_universe</td>\n",
        "      <td> Not_in_universe</td>\n",
        "      <td> ChildrenorArmedForces</td>\n",
        "      <td>     0</td>\n",
        "      <td> 0</td>\n",
        "      <td> 1000</td>\n",
        "      <td> Jointbothunder65</td>\n",
        "      <td>...</td>\n",
        "    </tr>\n",
        "    <tr>\n",
        "      <th>3</th>\n",
        "      <td> 43</td>\n",
        "      <td>    Self-employed-incorporated</td>\n",
        "      <td> 35</td>\n",
        "      <td> 17</td>\n",
        "      <td>          Bachelorsdegree(BAABBS)</td>\n",
        "      <td>   0</td>\n",
        "      <td> Not_in_universe</td>\n",
        "      <td> Married-civilianspousepresent</td>\n",
        "      <td> Financeinsuranceandrealestate</td>\n",
        "      <td>                       Sales</td>\n",
        "      <td> White</td>\n",
        "      <td> Allother</td>\n",
        "      <td>   Male</td>\n",
        "      <td> Not_in_universe</td>\n",
        "      <td> Not_in_universe</td>\n",
        "      <td> ChildrenorArmedForces</td>\n",
        "      <td> 99999</td>\n",
        "      <td> 0</td>\n",
        "      <td> 1000</td>\n",
        "      <td> Jointbothunder65</td>\n",
        "      <td>...</td>\n",
        "    </tr>\n",
        "    <tr>\n",
        "      <th>4</th>\n",
        "      <td> 39</td>\n",
        "      <td>                       Private</td>\n",
        "      <td> 24</td>\n",
        "      <td> 26</td>\n",
        "      <td>          Bachelorsdegree(BAABBS)</td>\n",
        "      <td>   0</td>\n",
        "      <td> Not_in_universe</td>\n",
        "      <td> Married-civilianspousepresent</td>\n",
        "      <td> Manufacturing-nondurablegoods</td>\n",
        "      <td> Admsupportincludingclerical</td>\n",
        "      <td> White</td>\n",
        "      <td> Allother</td>\n",
        "      <td>   Male</td>\n",
        "      <td> Not_in_universe</td>\n",
        "      <td> Not_in_universe</td>\n",
        "      <td> ChildrenorArmedForces</td>\n",
        "      <td>     0</td>\n",
        "      <td> 0</td>\n",
        "      <td>    0</td>\n",
        "      <td> Jointbothunder65</td>\n",
        "      <td>...</td>\n",
        "    </tr>\n",
        "    <tr>\n",
        "      <th>5</th>\n",
        "      <td> 27</td>\n",
        "      <td>                       Private</td>\n",
        "      <td> 33</td>\n",
        "      <td> 41</td>\n",
        "      <td>               Highschoolgraduate</td>\n",
        "      <td> 600</td>\n",
        "      <td> Not_in_universe</td>\n",
        "      <td>                  Nevermarried</td>\n",
        "      <td>                   Retailtrade</td>\n",
        "      <td>    Handlersequipcleanersetc</td>\n",
        "      <td> White</td>\n",
        "      <td> Allother</td>\n",
        "      <td> Female</td>\n",
        "      <td>              No</td>\n",
        "      <td> Not_in_universe</td>\n",
        "      <td> ChildrenorArmedForces</td>\n",
        "      <td>     0</td>\n",
        "      <td> 0</td>\n",
        "      <td>    0</td>\n",
        "      <td>           Single</td>\n",
        "      <td>...</td>\n",
        "    </tr>\n",
        "    <tr>\n",
        "      <th>6</th>\n",
        "      <td> 70</td>\n",
        "      <td>               Not_in_universe</td>\n",
        "      <td>  0</td>\n",
        "      <td>  0</td>\n",
        "      <td>               Highschoolgraduate</td>\n",
        "      <td>   0</td>\n",
        "      <td> Not_in_universe</td>\n",
        "      <td> Married-civilianspousepresent</td>\n",
        "      <td>     Not_in_universeorchildren</td>\n",
        "      <td>             Not_in_universe</td>\n",
        "      <td> White</td>\n",
        "      <td> Allother</td>\n",
        "      <td>   Male</td>\n",
        "      <td> Not_in_universe</td>\n",
        "      <td> Not_in_universe</td>\n",
        "      <td> ChildrenorArmedForces</td>\n",
        "      <td>     0</td>\n",
        "      <td> 0</td>\n",
        "      <td>    0</td>\n",
        "      <td>     Jointboth65+</td>\n",
        "      <td>...</td>\n",
        "    </tr>\n",
        "    <tr>\n",
        "      <th>7</th>\n",
        "      <td>  4</td>\n",
        "      <td>               Not_in_universe</td>\n",
        "      <td>  0</td>\n",
        "      <td>  0</td>\n",
        "      <td>                         Children</td>\n",
        "      <td>   0</td>\n",
        "      <td> Not_in_universe</td>\n",
        "      <td>                  Nevermarried</td>\n",
        "      <td>     Not_in_universeorchildren</td>\n",
        "      <td>             Not_in_universe</td>\n",
        "      <td> White</td>\n",
        "      <td> Allother</td>\n",
        "      <td> Female</td>\n",
        "      <td> Not_in_universe</td>\n",
        "      <td> Not_in_universe</td>\n",
        "      <td> ChildrenorArmedForces</td>\n",
        "      <td>     0</td>\n",
        "      <td> 0</td>\n",
        "      <td>    0</td>\n",
        "      <td>         Nonfiler</td>\n",
        "      <td>...</td>\n",
        "    </tr>\n",
        "    <tr>\n",
        "      <th>8</th>\n",
        "      <td> 42</td>\n",
        "      <td>               Not_in_universe</td>\n",
        "      <td>  0</td>\n",
        "      <td>  0</td>\n",
        "      <td>  Profschooldegree(MDDDSDVMLLBJD)</td>\n",
        "      <td>   0</td>\n",
        "      <td> Not_in_universe</td>\n",
        "      <td> Married-civilianspousepresent</td>\n",
        "      <td>     Not_in_universeorchildren</td>\n",
        "      <td>             Not_in_universe</td>\n",
        "      <td> White</td>\n",
        "      <td> Allother</td>\n",
        "      <td>   Male</td>\n",
        "      <td> Not_in_universe</td>\n",
        "      <td> Not_in_universe</td>\n",
        "      <td> ChildrenorArmedForces</td>\n",
        "      <td>     0</td>\n",
        "      <td> 0</td>\n",
        "      <td>   25</td>\n",
        "      <td> Jointbothunder65</td>\n",
        "      <td>...</td>\n",
        "    </tr>\n",
        "    <tr>\n",
        "      <th>9</th>\n",
        "      <td> 54</td>\n",
        "      <td> Self-employed-notIncorporated</td>\n",
        "      <td> 35</td>\n",
        "      <td>  2</td>\n",
        "      <td>          Bachelorsdegree(BAABBS)</td>\n",
        "      <td>   0</td>\n",
        "      <td> Not_in_universe</td>\n",
        "      <td> Married-civilianspousepresent</td>\n",
        "      <td> Financeinsuranceandrealestate</td>\n",
        "      <td> Executiveadminandmanagerial</td>\n",
        "      <td> White</td>\n",
        "      <td> Allother</td>\n",
        "      <td>   Male</td>\n",
        "      <td> Not_in_universe</td>\n",
        "      <td> Not_in_universe</td>\n",
        "      <td> ChildrenorArmedForces</td>\n",
        "      <td>     0</td>\n",
        "      <td> 0</td>\n",
        "      <td>  100</td>\n",
        "      <td> Jointbothunder65</td>\n",
        "      <td>...</td>\n",
        "    </tr>\n",
        "  </tbody>\n",
        "</table>\n",
        "<p>10 rows \u00d7 42 columns</p>\n",
        "</div>"
       ],
       "metadata": {},
       "output_type": "pyout",
       "prompt_number": 92,
       "text": [
        "   AAGE                        ACLSWKR  ADTIND  ADTOCC  \\\n",
        "0    43                LocalGovernment      43      10   \n",
        "1     0                Not_in_universe       0       0   \n",
        "2    44                        Private      11      22   \n",
        "3    43     Self-employed-incorporated      35      17   \n",
        "4    39                        Private      24      26   \n",
        "5    27                        Private      33      41   \n",
        "6    70                Not_in_universe       0       0   \n",
        "7     4                Not_in_universe       0       0   \n",
        "8    42                Not_in_universe       0       0   \n",
        "9    54  Self-employed-notIncorporated      35       2   \n",
        "\n",
        "                               AHGA  AHRSPAY           AHSCOL  \\\n",
        "0  Mastersdegree(MAMSMEngMEdMSWMBA)        0  Not_in_universe   \n",
        "1                          Children        0  Not_in_universe   \n",
        "2            Somecollegebutnodegree        0  Not_in_universe   \n",
        "3           Bachelorsdegree(BAABBS)        0  Not_in_universe   \n",
        "4           Bachelorsdegree(BAABBS)        0  Not_in_universe   \n",
        "5                Highschoolgraduate      600  Not_in_universe   \n",
        "6                Highschoolgraduate        0  Not_in_universe   \n",
        "7                          Children        0  Not_in_universe   \n",
        "8   Profschooldegree(MDDDSDVMLLBJD)        0  Not_in_universe   \n",
        "9           Bachelorsdegree(BAABBS)        0  Not_in_universe   \n",
        "\n",
        "                         AMARITL                         AMJIND  \\\n",
        "0  Married-civilianspousepresent                      Education   \n",
        "1                   Nevermarried      Not_in_universeorchildren   \n",
        "2  Married-civilianspousepresent     Manufacturing-durablegoods   \n",
        "3  Married-civilianspousepresent  Financeinsuranceandrealestate   \n",
        "4  Married-civilianspousepresent  Manufacturing-nondurablegoods   \n",
        "5                   Nevermarried                    Retailtrade   \n",
        "6  Married-civilianspousepresent      Not_in_universeorchildren   \n",
        "7                   Nevermarried      Not_in_universeorchildren   \n",
        "8  Married-civilianspousepresent      Not_in_universeorchildren   \n",
        "9  Married-civilianspousepresent  Financeinsuranceandrealestate   \n",
        "\n",
        "                        AMJOCC  ARACE   AREORGN    ASEX           AUNMEM  \\\n",
        "0        Professionalspecialty  White  Allother  Female  Not_in_universe   \n",
        "1              Not_in_universe  White  Allother    Male  Not_in_universe   \n",
        "2  Admsupportincludingclerical  White  Allother  Female  Not_in_universe   \n",
        "3                        Sales  White  Allother    Male  Not_in_universe   \n",
        "4  Admsupportincludingclerical  White  Allother    Male  Not_in_universe   \n",
        "5     Handlersequipcleanersetc  White  Allother  Female               No   \n",
        "6              Not_in_universe  White  Allother    Male  Not_in_universe   \n",
        "7              Not_in_universe  White  Allother  Female  Not_in_universe   \n",
        "8              Not_in_universe  White  Allother    Male  Not_in_universe   \n",
        "9  Executiveadminandmanagerial  White  Allother    Male  Not_in_universe   \n",
        "\n",
        "           AUNTYPE                AWKSTAT  CAPGAIN  CAPLOSS  DIVVAL  \\\n",
        "0  Not_in_universe  ChildrenorArmedForces        0        0       2   \n",
        "1  Not_in_universe  ChildrenorArmedForces        0        0       0   \n",
        "2  Not_in_universe  ChildrenorArmedForces        0        0    1000   \n",
        "3  Not_in_universe  ChildrenorArmedForces    99999        0    1000   \n",
        "4  Not_in_universe  ChildrenorArmedForces        0        0       0   \n",
        "5  Not_in_universe  ChildrenorArmedForces        0        0       0   \n",
        "6  Not_in_universe  ChildrenorArmedForces        0        0       0   \n",
        "7  Not_in_universe  ChildrenorArmedForces        0        0       0   \n",
        "8  Not_in_universe  ChildrenorArmedForces        0        0      25   \n",
        "9  Not_in_universe  ChildrenorArmedForces        0        0     100   \n",
        "\n",
        "           FILESTAT      \n",
        "0  Jointbothunder65 ...  \n",
        "1          Nonfiler ...  \n",
        "2  Jointbothunder65 ...  \n",
        "3  Jointbothunder65 ...  \n",
        "4  Jointbothunder65 ...  \n",
        "5            Single ...  \n",
        "6      Jointboth65+ ...  \n",
        "7          Nonfiler ...  \n",
        "8  Jointbothunder65 ...  \n",
        "9  Jointbothunder65 ...  \n",
        "\n",
        "[10 rows x 42 columns]"
       ]
      }
     ],
     "prompt_number": 92
    },
    {
     "cell_type": "markdown",
     "metadata": {},
     "source": [
      "\u0423\u0437\u043d\u0430\u0435\u043c \u0438\u043c\u044f \u043f\u043e\u0441\u043b\u0435\u0434\u043d\u0435\u0433\u043e \u0441\u0442\u043e\u043b\u0431\u0446\u0430, \u043a\u043e\u0442\u043e\u0440\u044b\u0439 \u043f\u043e \u0443\u0441\u043b\u043e\u0432\u0438\u044e \u0441\u043e\u0434\u0435\u0440\u0436\u0438\u0442 \u0434\u0430\u043d\u043d\u044b\u0435 \u043e \u0434\u043e\u0445\u043e\u0434\u0435:"
     ]
    },
    {
     "cell_type": "code",
     "collapsed": false,
     "input": [
      "df.columns[-1]"
     ],
     "language": "python",
     "metadata": {},
     "outputs": [
      {
       "metadata": {},
       "output_type": "pyout",
       "prompt_number": 94,
       "text": [
        "'CLASS'"
       ]
      }
     ],
     "prompt_number": 94
    },
    {
     "cell_type": "code",
     "collapsed": false,
     "input": [
      "print list(df.columns.values)\n",
      "df['CLASS'].head()"
     ],
     "language": "python",
     "metadata": {},
     "outputs": [
      {
       "output_type": "stream",
       "stream": "stdout",
       "text": [
        "['AAGE', 'ACLSWKR', 'ADTIND', 'ADTOCC', 'AHGA', 'AHRSPAY', 'AHSCOL', 'AMARITL', 'AMJIND', 'AMJOCC', 'ARACE', 'AREORGN', 'ASEX', 'AUNMEM', 'AUNTYPE', 'AWKSTAT', 'CAPGAIN', 'CAPLOSS', 'DIVVAL', 'FILESTAT', 'GRINREG', 'GRINST', 'HHDFMX', 'HHDREL', 'MARSUPWT', 'MIGMTR1', 'MIGMTR3', 'MIGMTR4', 'MIGSAME', 'MIGSUN', 'NOEMP', 'PARENT', 'PEFNTVTY', 'PEMNTVTY', 'PENATVTY', 'PRCITSHP', 'SEOTR', 'TAXINC', 'VETQVA', 'VETYN', 'WKSWORK', 'CLASS']\n"
       ]
      },
      {
       "metadata": {},
       "output_type": "pyout",
       "prompt_number": 6,
       "text": [
        "0    50000+\n",
        "1    -50000\n",
        "2    50000+\n",
        "3    50000+\n",
        "4    50000+\n",
        "Name: CLASS, dtype: object"
       ]
      }
     ],
     "prompt_number": 6
    },
    {
     "cell_type": "markdown",
     "metadata": {},
     "source": [
      "\u041f\u0440\u043e\u043d\u0443\u043c\u0435\u0440\u0443\u0435\u043c \u0437\u043d\u0430\u0447\u0435\u043d\u0438\u044f \u043a\u0430\u0442\u0435\u0433\u043e\u0440\u0438\u0430\u043b\u044c\u043d\u043e\u0433\u043e \u043f\u0440\u0438\u0437\u043d\u0430\u043a\u0430 CLASS"
     ]
    },
    {
     "cell_type": "code",
     "collapsed": false,
     "input": [
      "df['CLASS'] = pd.Categorical.from_array(df['CLASS']).labels"
     ],
     "language": "python",
     "metadata": {},
     "outputs": [],
     "prompt_number": 95
    },
    {
     "cell_type": "code",
     "collapsed": false,
     "input": [
      "df['CLASS'].head()"
     ],
     "language": "python",
     "metadata": {},
     "outputs": [
      {
       "metadata": {},
       "output_type": "pyout",
       "prompt_number": 96,
       "text": [
        "0    1\n",
        "1    0\n",
        "2    1\n",
        "3    1\n",
        "4    1\n",
        "Name: CLASS, dtype: int32"
       ]
      }
     ],
     "prompt_number": 96
    },
    {
     "cell_type": "markdown",
     "metadata": {},
     "source": [
      "\u0423\u0431\u0435\u0434\u0438\u043c\u0441\u044f, \u0447\u0442\u043e \u043d\u0435\u0442 \u043f\u0440\u043e\u043f\u0443\u0449\u0435\u043d\u043d\u044b\u0445 \u0434\u0430\u043d\u043d\u044b\u0445"
     ]
    },
    {
     "cell_type": "code",
     "collapsed": false,
     "input": [
      "df.count()"
     ],
     "language": "python",
     "metadata": {},
     "outputs": [
      {
       "metadata": {},
       "output_type": "pyout",
       "prompt_number": 174,
       "text": [
        "AAGE        10000\n",
        "ACLSWKR     10000\n",
        "ADTIND      10000\n",
        "ADTOCC      10000\n",
        "AHGA        10000\n",
        "AHRSPAY     10000\n",
        "AHSCOL      10000\n",
        "AMARITL     10000\n",
        "AMJIND      10000\n",
        "AMJOCC      10000\n",
        "ARACE       10000\n",
        "AREORGN     10000\n",
        "ASEX        10000\n",
        "AUNMEM      10000\n",
        "AUNTYPE     10000\n",
        "AWKSTAT     10000\n",
        "CAPGAIN     10000\n",
        "CAPLOSS     10000\n",
        "DIVVAL      10000\n",
        "FILESTAT    10000\n",
        "GRINREG     10000\n",
        "GRINST      10000\n",
        "HHDFMX      10000\n",
        "HHDREL      10000\n",
        "MARSUPWT    10000\n",
        "MIGMTR1     10000\n",
        "MIGMTR3     10000\n",
        "MIGMTR4     10000\n",
        "MIGSAME     10000\n",
        "MIGSUN      10000\n",
        "NOEMP       10000\n",
        "PARENT      10000\n",
        "PEFNTVTY    10000\n",
        "PEMNTVTY    10000\n",
        "PENATVTY    10000\n",
        "PRCITSHP    10000\n",
        "SEOTR       10000\n",
        "TAXINC      10000\n",
        "VETQVA      10000\n",
        "VETYN       10000\n",
        "WKSWORK     10000\n",
        "CLASS       10000\n",
        "dtype: int64"
       ]
      }
     ],
     "prompt_number": 174
    },
    {
     "cell_type": "markdown",
     "metadata": {},
     "source": [
      "\u041d\u0435\u043a\u043e\u0442\u043e\u0440\u044b\u0435 \u0441\u0442\u043e\u043b\u0431\u0446\u044b, \u0434\u0430\u043d\u043d\u044b\u0435 \u0432 \u0442\u0430\u0431\u043b\u0438\u0446\u0435, \u0441\u043e\u0434\u0435\u0440\u0436\u0430\u0442 \u0442\u043e\u043b\u044c\u043a\u043e \u043e\u0434\u043d\u043e \u0437\u043d\u0430\u0447\u0435\u043d\u0438\u0435. \u0418\u0445 \u043c\u043e\u0436\u043d\u043e \u0443\u0434\u0430\u043b\u0438\u0442\u044c:"
     ]
    },
    {
     "cell_type": "code",
     "collapsed": false,
     "input": [
      "col_name = list(df.columns.values)\n",
      "unique = list()\n",
      "for s in col_name:\n",
      "    if (len(df[s].value_counts()) == 1):\n",
      "        unique = append(unique,s)\n",
      "unique"
     ],
     "language": "python",
     "metadata": {},
     "outputs": [
      {
       "metadata": {},
       "output_type": "pyout",
       "prompt_number": 162,
       "text": [
        "array(['AWKSTAT', 'WKSWORK'], \n",
        "      dtype='|S7')"
       ]
      }
     ],
     "prompt_number": 162
    },
    {
     "cell_type": "code",
     "collapsed": false,
     "input": [
      "df = df.drop(unique, axis = 1)"
     ],
     "language": "python",
     "metadata": {},
     "outputs": [],
     "prompt_number": 176
    },
    {
     "cell_type": "markdown",
     "metadata": {},
     "source": [
      "\u0422\u0435\u043f\u0435\u0440\u044c \u043d\u0430\u0439\u0434\u0435\u043c \u0441\u0442\u043e\u043b\u0431\u0446\u044b, \u043a\u043e\u0442\u043e\u0440\u044b\u0435 \u0445\u043e\u0440\u043e\u0448\u043e \u043a\u043e\u0440\u0440\u0435\u043b\u0438\u0440\u0443\u044e\u0442 \u0441 \u0441\u0442\u043e\u043b\u0431\u0446\u043e\u043c CLASS. \u0414\u043b\u044f \u044d\u0442\u043e\u0433\u043e \u043a\u0430\u0442\u0435\u0433\u043e\u0440\u0438\u0430\u043b\u044c\u043d\u044b\u0435 \u0441\u0442\u043e\u043b\u0431\u0446\u044b \u0442\u0430\u043a\u0436\u0435 \u0437\u0430\u043d\u0443\u043c\u0435\u0440\u0443\u0435\u043c \n",
      "(\u0435\u0441\u0442\u0435\u0441\u0442\u0432\u0435\u043d\u043d\u043e, \u044d\u0442\u043e \u043d\u0435 \u043b\u0443\u0447\u0448\u0435\u0435 \u0440\u0435\u0448\u0435\u043d\u0438\u0435, \u043d\u043e \u044d\u0442\u043e \u043f\u043e\u0437\u0432\u043e\u043b\u0438\u0442 \u0432\u044b\u043b\u043e\u0432\u0438\u0442\u044c \u0445\u043e\u0442\u044f \u0431\u044b \u043d\u0435\u043a\u043e\u0442\u043e\u0440\u044b\u0435 \u043b\u044e\u0431\u043e\u043f\u044b\u0442\u043d\u044b\u0435 \u0437\u0430\u0432\u0438\u0441\u0438\u043c\u043e\u0441\u0442\u0438). "
     ]
    },
    {
     "cell_type": "code",
     "collapsed": false,
     "input": [
      "dfc = df.copy()\n",
      "for s in list(dfc.columns.values):\n",
      "    if type(dfc[s][0]) == str:\n",
      "        dfc[s] = pd.Categorical.from_array(dfc[s]).labels"
     ],
     "language": "python",
     "metadata": {},
     "outputs": [],
     "prompt_number": 185
    },
    {
     "cell_type": "code",
     "collapsed": false,
     "input": [
      "corr_cl = dfc.corr().CLASS.copy()\n",
      "corr_cl = corr_cl.abs()\n",
      "corr_cl.sort(ascending = False)\n",
      "corr_cl"
     ],
     "language": "python",
     "metadata": {},
     "outputs": [
      {
       "metadata": {},
       "output_type": "pyout",
       "prompt_number": 194,
       "text": [
        "CLASS       1.000000\n",
        "VETYN       0.567911\n",
        "NOEMP       0.432022\n",
        "ADTIND      0.408856\n",
        "PARENT      0.398280\n",
        "VETQVA      0.371793\n",
        "AAGE        0.339162\n",
        "AMARITL     0.338401\n",
        "ASEX        0.336971\n",
        "FILESTAT    0.294343\n",
        "AHGA        0.202836\n",
        "CAPGAIN     0.194284\n",
        "ACLSWKR     0.186665\n",
        "CAPLOSS     0.179188\n",
        "AHSCOL      0.166546\n",
        "HHDREL      0.159569\n",
        "DIVVAL      0.152509\n",
        "AREORGN     0.140684\n",
        "HHDFMX      0.116132\n",
        "AMJIND      0.113777\n",
        "AMJOCC      0.113750\n",
        "ARACE       0.110072\n",
        "MIGSAME     0.083633\n",
        "AUNMEM      0.077010\n",
        "SEOTR       0.069420\n",
        "TAXINC      0.043825\n",
        "MIGMTR1     0.043429\n",
        "MIGMTR3     0.043261\n",
        "PRCITSHP    0.043097\n",
        "PEMNTVTY    0.041444\n",
        "MARSUPWT    0.035917\n",
        "PEFNTVTY    0.033966\n",
        "MIGMTR4     0.033705\n",
        "AHRSPAY     0.031311\n",
        "GRINST      0.028799\n",
        "ADTOCC      0.028510\n",
        "AUNTYPE     0.022644\n",
        "PENATVTY    0.016876\n",
        "MIGSUN      0.004991\n",
        "GRINREG     0.002206\n",
        "Name: CLASS, dtype: float64"
       ]
      }
     ],
     "prompt_number": 194
    },
    {
     "cell_type": "markdown",
     "metadata": {},
     "source": [
      "\u041f\u043e\u0441\u0442\u0440\u043e\u0438\u043c \u0433\u0440\u0430\u0444\u0438\u043a\u0438 \u0441 \u0442\u043e\u043f-3 \u043f\u0430\u0440\u0430\u043c\u0435\u0442\u0440\u0430\u043c\u0438:"
     ]
    },
    {
     "cell_type": "code",
     "collapsed": false,
     "input": [
      "pd.crosstab(df['VETYN'], df.CLASS).plot(kind = 'bar', figsize = (20,5))\n",
      "pd.crosstab(df['NOEMP'], df.CLASS).plot(kind = 'bar', figsize = (20,5))\n",
      "pd.crosstab(df['ADTIND'], df.CLASS).plot(kind = 'bar', figsize = (20,5))"
     ],
     "language": "python",
     "metadata": {},
     "outputs": [
      {
       "metadata": {},
       "output_type": "pyout",
       "prompt_number": 195,
       "text": [
        "<matplotlib.axes.AxesSubplot at 0x1ac70ad0>"
       ]
      },
      {
       "metadata": {},
       "output_type": "display_data",
       "png": "[encoded data removed]",
       "text": [
        "<matplotlib.figure.Figure at 0x213fc770>"
       ]
      },
      {
       "metadata": {},
       "output_type": "display_data",
       "png": "[encoded data removed]",
       "text": [
        "<matplotlib.figure.Figure at 0x1ac95d90>"
       ]
      },
      {
       "metadata": {},
       "output_type": "display_data",
       "png": "[encoded data removed]",
       "text": [
        "<matplotlib.figure.Figure at 0x1aaf0130>"
       ]
      }
     ],
     "prompt_number": 195
    },
    {
     "cell_type": "markdown",
     "metadata": {},
     "source": [
      "\u041a\u0440\u043e\u043c\u0435 \u0442\u043e\u0433\u043e, \u043b\u044e\u0431\u043e\u043f\u044b\u0442\u043d\u044b\u043c\u0438 \u0432\u044b\u0433\u043b\u044f\u0434\u044f\u0442 \u0441\u043b\u0435\u0434\u0443\u0449\u0438\u0435 \u0433\u0440\u0430\u0444\u0438\u043a\u0438:"
     ]
    },
    {
     "cell_type": "code",
     "collapsed": false,
     "input": [
      "pd.crosstab(df['AAGE'], df.CLASS).plot(kind = 'bar', figsize = (20,5))\n",
      "pd.crosstab(df['AHGA'], df.CLASS).plot(kind = 'bar', figsize = (20,5))"
     ],
     "language": "python",
     "metadata": {},
     "outputs": [
      {
       "metadata": {},
       "output_type": "pyout",
       "prompt_number": 510,
       "text": [
        "<matplotlib.axes.AxesSubplot at 0x30143c70>"
       ]
      },
      {
       "metadata": {},
       "output_type": "display_data",
       "png": "[encoded data removed]",
       "text": [
        "<matplotlib.figure.Figure at 0x2f513bb0>"
       ]
      },
      {
       "metadata": {},
       "output_type": "display_data",
       "png": "[encoded data removed]",
       "text": [
        "<matplotlib.figure.Figure at 0x25634850>"
       ]
      }
     ],
     "prompt_number": 510
    },
    {
     "cell_type": "heading",
     "level": 2,
     "metadata": {},
     "source": [
      "Dummy-code, \u043d\u043e\u0440\u043c\u0438\u0440\u043e\u0432\u0430\u043d\u0438\u0435"
     ]
    },
    {
     "cell_type": "markdown",
     "metadata": {},
     "source": [
      "\u0421\u043e\u0437\u0434\u0430\u0434\u0438\u043c \u043a\u043e\u043f\u0438\u044e \u0434\u0430\u043d\u043d\u044b\u0445, \u0433\u0434\u0435 \u0432\u043c\u0435\u0441\u0442\u043e \u0441\u0442\u043e\u043b\u0431\u0446\u043e\u0432 \u043a\u0430\u0442\u0435\u0433\u043e\u0440\u0438\u0430\u043b\u044c\u043d\u044b\u0445 \u043f\u0435\u0440\u0435\u043c\u0435\u043d\u043d\u044b\u0445 \u0431\u0443\u0434\u0443\u0442 \u0441\u0442\u043e\u044f\u0442\u044c \u0438\u0445 dummy-codes:"
     ]
    },
    {
     "cell_type": "code",
     "collapsed": false,
     "input": [
      "dfdm = pd.DataFrame()"
     ],
     "language": "python",
     "metadata": {},
     "outputs": [],
     "prompt_number": 292
    },
    {
     "cell_type": "code",
     "collapsed": false,
     "input": [
      "for s in list(df.columns.values):\n",
      "    if type(df[s][0]) == str:\n",
      "        dummy = pd.get_dummies(df[s], prefix = s)       \n",
      "        dfdm = dfdm.join(dummy,how = 'right')\n",
      "    else:\n",
      "        dfdm = dfdm.join(df[s],how = 'right')"
     ],
     "language": "python",
     "metadata": {},
     "outputs": [],
     "prompt_number": 293
    },
    {
     "cell_type": "markdown",
     "metadata": {},
     "source": [
      "\u0420\u0430\u0437\u0434\u0435\u043b\u0438\u043c \u043d\u0430\u0448 DataFrame \u043d\u0430 \u0440\u0435\u0433\u0440\u0435\u0441\u0441\u043e\u0440\u044b \u0438 \u043e\u0442\u043a\u043b\u0438\u043a"
     ]
    },
    {
     "cell_type": "code",
     "collapsed": false,
     "input": [
      "X = dfdm.drop('CLASS', axis = 1)\n",
      "y = dfdm.CLASS"
     ],
     "language": "python",
     "metadata": {},
     "outputs": [],
     "prompt_number": 308
    },
    {
     "cell_type": "markdown",
     "metadata": {},
     "source": [
      "\u041d\u043e\u0440\u043c\u0438\u0440\u0443\u0435\u043c \u0434\u0430\u043d\u043d\u044b\u0435"
     ]
    },
    {
     "cell_type": "code",
     "collapsed": false,
     "input": [
      "from sklearn.preprocessing import scale as scale\n",
      "X = scale(X)"
     ],
     "language": "python",
     "metadata": {},
     "outputs": [],
     "prompt_number": 309
    },
    {
     "cell_type": "markdown",
     "metadata": {},
     "source": [
      "\u0417\u0430\u0433\u0440\u0443\u0437\u0438\u043c \u0438 \u043e\u0431\u0443\u0447\u0438\u043c \u043a\u043b\u0430\u0441\u0441\u0438\u0444\u0438\u043a\u0430\u0442\u043e\u0440"
     ]
    },
    {
     "cell_type": "code",
     "collapsed": false,
     "input": [
      "from sklearn.neighbors import KNeighborsClassifier as KNN\n",
      "clf = KNN(n_neighbors=1)\n",
      "clf.fit(X, y)\n",
      "print clf"
     ],
     "language": "python",
     "metadata": {},
     "outputs": [
      {
       "output_type": "stream",
       "stream": "stdout",
       "text": [
        "KNeighborsClassifier(algorithm=auto, leaf_size=30, n_neighbors=1, p=2,\n",
        "           warn_on_equidistant=True, weights=uniform)\n"
       ]
      }
     ],
     "prompt_number": 310
    },
    {
     "cell_type": "markdown",
     "metadata": {},
     "source": [
      "\u0420\u0430\u0437\u0434\u0435\u043b\u0438\u043c \u0432\u044b\u0431\u043e\u0440\u043a\u0443 \u043d\u0430 \u043e\u0431\u0443\u0447\u0430\u044e\u0449\u0443\u044e \u0438 \u0442\u0435\u0441\u0442\u043e\u0432\u0443\u044e \u0441\u043b\u0443\u0447\u0430\u0439\u043d\u044b\u043c \u043e\u0431\u0440\u0430\u0437\u043e\u043c:"
     ]
    },
    {
     "cell_type": "code",
     "collapsed": false,
     "input": [
      "from sklearn.cross_validation import train_test_split\n",
      "X_train, X_test, y_train, y_test = train_test_split(X, y, test_size=0.3)\n",
      "clf.fit(X_train, y_train)\n",
      "y_pred =  clf.predict_proba(X_test)  # \u0432\u0435\u0440\u043e\u044f\u0442\u043d\u043e\u0441\u0442\u0438 \u043f\u0440\u0435\u043d\u0430\u0434\u043b\u0435\u0436\u043d\u043e\u0441\u0442\u0438 \u043a \u043a\u043b\u0430\u0441\u0441\u0443"
     ],
     "language": "python",
     "metadata": {},
     "outputs": [
      {
       "output_type": "stream",
       "stream": "stderr",
       "text": [
        "C:\\Python27\\lib\\site-packages\\sklearn\\neighbors\\classification.py:159: NeighborsWarning: kneighbors: neighbor k+1 and neighbor k have the same distance: results will be dependent on data order.\n",
        "  neigh_dist, neigh_ind = self.kneighbors(X)\n"
       ]
      }
     ],
     "prompt_number": 362
    },
    {
     "cell_type": "code",
     "collapsed": false,
     "input": [
      "# \u0432\u044b\u0434\u0435\u043b\u0438\u043c \u0441\u0442\u0435\u043f\u0435\u043d\u0438 \u043f\u0440\u0435\u043d\u0430\u0434\u043b\u0435\u0436\u043d\u043e\u0441\u0442\u0438 \u043a\u043b\u0430\u0441\u0441\u0443 1\n",
      "y_pred = y_pred.T[1]"
     ],
     "language": "python",
     "metadata": {},
     "outputs": [],
     "prompt_number": 363
    },
    {
     "cell_type": "code",
     "collapsed": false,
     "input": [
      "from sklearn.metrics import mean_absolute_error as MAE\n",
      "error = MAE(y_pred,y_test)"
     ],
     "language": "python",
     "metadata": {},
     "outputs": [],
     "prompt_number": 365
    },
    {
     "cell_type": "code",
     "collapsed": false,
     "input": [
      "print '\u0421\u0440\u0435\u0434\u043d\u044f\u044f \u0430\u0431\u0441\u043e\u043b\u044e\u0442\u043d\u0430\u044f \u043e\u0448\u0438\u0431\u043a\u0430 \u0441\u043e\u0441\u0442\u0430\u0432\u0438\u043b\u0430 ', \"%0.2f\" % error"
     ],
     "language": "python",
     "metadata": {},
     "outputs": [
      {
       "output_type": "stream",
       "stream": "stdout",
       "text": [
        " \u0421\u0440\u0435\u0434\u043d\u044f\u044f \u0430\u0431\u0441\u043e\u043b\u044e\u0442\u043d\u0430\u044f \u043e\u0448\u0438\u0431\u043a\u0430 \u0441\u043e\u0441\u0442\u0430\u0432\u0438\u043b\u0430  0.25\n"
       ]
      }
     ],
     "prompt_number": 368
    },
    {
     "cell_type": "heading",
     "level": 2,
     "metadata": {},
     "source": [
      "\u041a\u043b\u0430\u0441\u0441\u0438\u0444\u0438\u043a\u0430\u0442\u043e\u0440 \u043d\u0430 \u0443\u0440\u0435\u0437\u0430\u043d\u043d\u044b\u0445 \u043f\u0430\u0440\u0430\u043c\u0435\u0442\u0440\u0430\u0445"
     ]
    },
    {
     "cell_type": "markdown",
     "metadata": {},
     "source": [
      "\u0410\u043d\u0430\u043b\u043e\u0433\u0438\u0447\u043d\u044b\u043c \u043e\u0431\u0440\u0430\u0437\u043e\u043c \u043f\u043e\u0441\u0442\u0440\u043e\u0438\u043c \u043a\u043b\u0430\u0441\u0441\u0438\u0444\u0438\u043a\u0430\u0442\u043e\u0440 \u043d\u0430 \u043f\u0430\u0440\u0430\u043c\u0435\u0442\u0440\u0430\u0445, \u0432\u044b\u0434\u0435\u043b\u0435\u043d\u043d\u044b\u0445 \u043f\u0440\u0438 \u043f\u043e\u0441\u0442\u0440\u043e\u0435\u043d\u0438\u0438 \u0433\u0440\u0430\u0444\u0438\u043a\u043e\u0432"
     ]
    },
    {
     "cell_type": "code",
     "collapsed": false,
     "input": [
      "dfa = df.loc[:,['VETYN','AAGE','AHGA', 'ADTIND','CLASS']] # NOEMP \u0437\u0430\u0431\u0440\u0430\u043a\u043e\u0432\u0430\u043b\u0438, \u0442.\u043a. \u043e\u043d \u043d\u0435 \u043f\u0440\u0438\u043d\u043e\u0441\u0438\u043b \u0437\u0430\u043c\u0435\u0442\u043d\u043e\u0433\u043e \u0443\u043b\u0443\u0447\u0448\u0435\u043d\u0438\u044f"
     ],
     "language": "python",
     "metadata": {},
     "outputs": [],
     "prompt_number": 523
    },
    {
     "cell_type": "code",
     "collapsed": false,
     "input": [
      "dfdm = pd.DataFrame()\n",
      "for s in list(dfa.columns.values):\n",
      "    if type(df[s][0]) == str:\n",
      "        dummy = pd.get_dummies(dfa[s], prefix = s)       \n",
      "        dfdm = dfdm.join(dummy,how = 'right')\n",
      "    else:\n",
      "        dfdm = dfdm.join(dfa[s],how = 'right')\n",
      "\n",
      "X = dfdm.drop('CLASS', axis = 1)\n",
      "y = dfdm.CLASS\n",
      "\n",
      "X = scale(X)\n",
      "\n",
      "clf = KNN(n_neighbors = 1)\n",
      "clf.fit(X, y)\n",
      "\n",
      "X_train, X_test, y_train, y_test = train_test_split(X, y, test_size=0.3)\n",
      "clf.fit(X_train, y_train)\n",
      "y_pred =  clf.predict_proba(X_test).T[1]\n",
      "\n",
      "error = MAE(y_pred,y_test)\n",
      "print '\u0421\u0440\u0435\u0434\u043d\u044f\u044f \u0430\u0431\u0441\u043e\u043b\u044e\u0442\u043d\u0430\u044f \u043e\u0448\u0438\u0431\u043a\u0430 \u0441\u043e\u0441\u0442\u0430\u0432\u0438\u043b\u0430 ', \"%0.2f\" % error"
     ],
     "language": "python",
     "metadata": {},
     "outputs": [
      {
       "output_type": "stream",
       "stream": "stdout",
       "text": [
        "\u0421\u0440\u0435\u0434\u043d\u044f\u044f \u0430\u0431\u0441\u043e\u043b\u044e\u0442\u043d\u0430\u044f \u043e\u0448\u0438\u0431\u043a\u0430 \u0441\u043e\u0441\u0442\u0430\u0432\u0438\u043b\u0430  0.23\n"
       ]
      },
      {
       "output_type": "stream",
       "stream": "stderr",
       "text": [
        "C:\\Python27\\lib\\site-packages\\sklearn\\neighbors\\classification.py:159: NeighborsWarning: kneighbors: neighbor k+1 and neighbor k have the same distance: results will be dependent on data order.\n",
        "  neigh_dist, neigh_ind = self.kneighbors(X)\n"
       ]
      }
     ],
     "prompt_number": 524
    },
    {
     "cell_type": "markdown",
     "metadata": {},
     "source": [
      "\u041f\u043e\u0432\u0442\u043e\u0440\u043d\u044b\u0435 \u0438\u0442\u0435\u0440\u0430\u0446\u0438\u0438 \u043f\u043e\u043a\u0430\u0437\u044b\u0432\u0430\u044e\u0442, \u0447\u0442\u043e \u0442\u0430\u043a\u043e\u0439 \u043a\u043b\u0430\u0441\u0441\u0438\u0444\u0438\u043a\u0430\u0442\u043e\u0440 \u043d\u0435 \u043d\u0430\u043c\u043d\u043e\u0433\u043e \u043e\u0442\u043b\u0438\u0447\u0430\u0435\u0442\u0441\u044f \u043e\u0442 \u043a\u043b\u0430\u0441\u0441\u0438\u0444\u0438\u043a\u0430\u0442\u043e\u0440\u0430 \u043d\u0430 \u043f\u043e\u043b\u043d\u044b\u0445 \u0434\u0430\u043d\u043d\u044b\u0445, \u043f\u043e\u044d\u0442\u043e\u043c\u0443 \u0434\u0430\u043b\u044c\u0448\u0435 \u0431\u0443\u0434\u0435\u043c \u0440\u0430\u0431\u043e\u0442\u0430\u0442\u044c \u0443\u0436\u0435 \u0441 \u043d\u0438\u043c."
     ]
    },
    {
     "cell_type": "heading",
     "level": 2,
     "metadata": {},
     "source": [
      "\u041e\u0442\u0441\u0442\u0443\u043f\u044b"
     ]
    },
    {
     "cell_type": "markdown",
     "metadata": {},
     "source": [
      "\u0417\u0430\u0434\u0430\u0434\u0438\u043c \u043d\u043e\u0432\u044b\u0439 \u043a\u043b\u0430\u0441\u0441\u0438\u0444\u0438\u043a\u0430\u0442\u043e\u0440 \u0441 10 \u0431\u043b\u0438\u0436\u0430\u0439\u0448\u0438\u043c\u0438 \u0441\u043e\u0441\u0435\u0434\u044f\u043c\u0438"
     ]
    },
    {
     "cell_type": "code",
     "collapsed": false,
     "input": [
      "clf10 = KNN(n_neighbors=10, weights='distance')"
     ],
     "language": "python",
     "metadata": {},
     "outputs": [],
     "prompt_number": 525
    },
    {
     "cell_type": "markdown",
     "metadata": {},
     "source": [
      "\u0421\u043b\u0443\u0447\u0430\u0439\u043d\u044b\u043c \u043e\u0431\u0440\u0430\u0437\u043e\u043c \u0440\u0430\u0437\u0434\u0435\u043b\u0438\u043c \u0432\u044b\u0431\u043e\u0440\u043a\u0443 \u043d\u0430 \u043e\u0431\u0443\u0447\u0430\u044e\u0449\u0443\u044e \u0438 \u0442\u0435\u0441\u0442\u043e\u0432\u0443\u044e"
     ]
    },
    {
     "cell_type": "code",
     "collapsed": false,
     "input": [
      "X_train, X_test, y_train, y_test = train_test_split(X, y, test_size=0.3)"
     ],
     "language": "python",
     "metadata": {},
     "outputs": [],
     "prompt_number": 526
    },
    {
     "cell_type": "code",
     "collapsed": false,
     "input": [
      "clf10.fit(X_train,y_train)\n",
      "y_pred =  clf10.predict_proba(X_test)"
     ],
     "language": "python",
     "metadata": {},
     "outputs": [
      {
       "output_type": "stream",
       "stream": "stderr",
       "text": [
        "C:\\Python27\\lib\\site-packages\\sklearn\\neighbors\\classification.py:159: NeighborsWarning: kneighbors: neighbor k+1 and neighbor k have the same distance: results will be dependent on data order.\n",
        "  neigh_dist, neigh_ind = self.kneighbors(X)\n"
       ]
      }
     ],
     "prompt_number": 527
    },
    {
     "cell_type": "markdown",
     "metadata": {},
     "source": [
      "\u041d\u0430\u0439\u0434\u0435\u043c \u043e\u0442\u0441\u0442\u0443\u043f\u044b \u0434\u043b\u044f \u0442\u0435\u0441\u0442\u043e\u0432\u044b\u0445 \u0437\u043d\u0430\u0447\u0435\u043d\u0438\u0439"
     ]
    },
    {
     "cell_type": "code",
     "collapsed": false,
     "input": [
      "marg = (y_pred.T[1]-y_pred.T[0])*(2*(y_test-list(0.5 for i in range(len(y_test))))) \n",
      "# \u0432 \u043f\u0440\u0430\u0432\u0438\u043b\u044c\u043d\u043e\u0441\u0442\u0438 \u044d\u0442\u043e\u0439 \u0444\u043e\u0440\u043c\u0443\u043b\u044b \u043c\u043e\u0436\u043d\u043e \u0443\u0431\u0435\u0434\u0438\u0442\u044c\u0441\u044f, \u043f\u0440\u043e\u0441\u0442\u043e \u043f\u043e\u0434\u0441\u0442\u0430\u0432\u0438\u0432 \u0437\u043d\u0430\u0447\u0435\u043d\u0438\u044f \u043a\u043b\u0430\u0441\u0441\u043e\u0432"
     ],
     "language": "python",
     "metadata": {},
     "outputs": [],
     "prompt_number": 528
    },
    {
     "cell_type": "code",
     "collapsed": false,
     "input": [
      "pd.DataFrame(marg).hist(figsize=(10,6), bins = 15)"
     ],
     "language": "python",
     "metadata": {},
     "outputs": [
      {
       "metadata": {},
       "output_type": "pyout",
       "prompt_number": 530,
       "text": [
        "array([[<matplotlib.axes.AxesSubplot object at 0x29F307F0>]], dtype=object)"
       ]
      },
      {
       "metadata": {},
       "output_type": "display_data",
       "png": "[encoded data removed]",
       "text": [
        "<matplotlib.figure.Figure at 0x29f49450>"
       ]
      }
     ],
     "prompt_number": 530
    },
    {
     "cell_type": "heading",
     "level": 2,
     "metadata": {},
     "source": [
      "\u041f\u043e\u0438\u0441\u043a \u043e\u043f\u0442\u0438\u043c\u0430\u043b\u044c\u043d\u043e\u0433\u043e \u0447\u0438\u0441\u043b\u0430 \u0441\u043e\u0441\u0435\u0434\u0435\u0439"
     ]
    },
    {
     "cell_type": "markdown",
     "metadata": {},
     "source": [
      "\u041f\u043e\u0438\u0441\u043a \u0431\u0443\u0434\u0435\u043c \u0432\u0435\u0441\u0442\u0438 \u0441 \u043f\u0440\u0438\u043c\u0435\u043d\u0435\u043d\u0438\u0435\u043c GridSearchCV"
     ]
    },
    {
     "cell_type": "code",
     "collapsed": false,
     "input": [
      "from sklearn.grid_search import GridSearchCV\n",
      "rng=range(1, 52,5)\n",
      "params = {'n_neighbors': rng, 'weights':('uniform','distance')}\n",
      "grid_searcher = GridSearchCV(clf, params, cv=3)\n",
      "grid_searcher.fit(X, y)"
     ],
     "language": "python",
     "metadata": {},
     "outputs": [
      {
       "output_type": "stream",
       "stream": "stderr",
       "text": [
        "C:\\Python27\\lib\\site-packages\\sklearn\\neighbors\\classification.py:131: NeighborsWarning: kneighbors: neighbor k+1 and neighbor k have the same distance: results will be dependent on data order.\n",
        "  neigh_dist, neigh_ind = self.kneighbors(X)\n",
        "C:\\Python27\\lib\\site-packages\\sklearn\\neighbors\\classification.py:131: NeighborsWarning: kneighbors: neighbor k+1 and neighbor k have the same distance: results will be dependent on data order.\n",
        "  neigh_dist, neigh_ind = self.kneighbors(X)\n"
       ]
      },
      {
       "output_type": "stream",
       "stream": "stderr",
       "text": [
        "C:\\Python27\\lib\\site-packages\\sklearn\\neighbors\\classification.py:131: NeighborsWarning: kneighbors: neighbor k+1 and neighbor k have the same distance: results will be dependent on data order.\n",
        "  neigh_dist, neigh_ind = self.kneighbors(X)\n",
        "C:\\Python27\\lib\\site-packages\\sklearn\\neighbors\\classification.py:131: NeighborsWarning: kneighbors: neighbor k+1 and neighbor k have the same distance: results will be dependent on data order.\n",
        "  neigh_dist, neigh_ind = self.kneighbors(X)\n"
       ]
      },
      {
       "output_type": "stream",
       "stream": "stderr",
       "text": [
        "C:\\Python27\\lib\\site-packages\\sklearn\\neighbors\\classification.py:131: NeighborsWarning: kneighbors: neighbor k+1 and neighbor k have the same distance: results will be dependent on data order.\n",
        "  neigh_dist, neigh_ind = self.kneighbors(X)\n",
        "C:\\Python27\\lib\\site-packages\\sklearn\\neighbors\\classification.py:131: NeighborsWarning: kneighbors: neighbor k+1 and neighbor k have the same distance: results will be dependent on data order.\n",
        "  neigh_dist, neigh_ind = self.kneighbors(X)\n"
       ]
      },
      {
       "output_type": "stream",
       "stream": "stderr",
       "text": [
        "C:\\Python27\\lib\\site-packages\\sklearn\\neighbors\\classification.py:131: NeighborsWarning: kneighbors: neighbor k+1 and neighbor k have the same distance: results will be dependent on data order.\n",
        "  neigh_dist, neigh_ind = self.kneighbors(X)\n",
        "C:\\Python27\\lib\\site-packages\\sklearn\\neighbors\\classification.py:131: NeighborsWarning: kneighbors: neighbor k+1 and neighbor k have the same distance: results will be dependent on data order.\n",
        "  neigh_dist, neigh_ind = self.kneighbors(X)\n"
       ]
      },
      {
       "output_type": "stream",
       "stream": "stderr",
       "text": [
        "C:\\Python27\\lib\\site-packages\\sklearn\\neighbors\\classification.py:131: NeighborsWarning: kneighbors: neighbor k+1 and neighbor k have the same distance: results will be dependent on data order.\n",
        "  neigh_dist, neigh_ind = self.kneighbors(X)\n",
        "C:\\Python27\\lib\\site-packages\\sklearn\\neighbors\\classification.py:131: NeighborsWarning: kneighbors: neighbor k+1 and neighbor k have the same distance: results will be dependent on data order.\n",
        "  neigh_dist, neigh_ind = self.kneighbors(X)\n"
       ]
      },
      {
       "output_type": "stream",
       "stream": "stderr",
       "text": [
        "C:\\Python27\\lib\\site-packages\\sklearn\\neighbors\\classification.py:131: NeighborsWarning: kneighbors: neighbor k+1 and neighbor k have the same distance: results will be dependent on data order.\n",
        "  neigh_dist, neigh_ind = self.kneighbors(X)\n",
        "C:\\Python27\\lib\\site-packages\\sklearn\\neighbors\\classification.py:131: NeighborsWarning: kneighbors: neighbor k+1 and neighbor k have the same distance: results will be dependent on data order.\n",
        "  neigh_dist, neigh_ind = self.kneighbors(X)\n"
       ]
      },
      {
       "output_type": "stream",
       "stream": "stderr",
       "text": [
        "C:\\Python27\\lib\\site-packages\\sklearn\\neighbors\\classification.py:131: NeighborsWarning: kneighbors: neighbor k+1 and neighbor k have the same distance: results will be dependent on data order.\n",
        "  neigh_dist, neigh_ind = self.kneighbors(X)\n",
        "C:\\Python27\\lib\\site-packages\\sklearn\\neighbors\\classification.py:131: NeighborsWarning: kneighbors: neighbor k+1 and neighbor k have the same distance: results will be dependent on data order.\n",
        "  neigh_dist, neigh_ind = self.kneighbors(X)\n"
       ]
      },
      {
       "output_type": "stream",
       "stream": "stderr",
       "text": [
        "C:\\Python27\\lib\\site-packages\\sklearn\\neighbors\\classification.py:131: NeighborsWarning: kneighbors: neighbor k+1 and neighbor k have the same distance: results will be dependent on data order.\n",
        "  neigh_dist, neigh_ind = self.kneighbors(X)\n",
        "C:\\Python27\\lib\\site-packages\\sklearn\\neighbors\\classification.py:131: NeighborsWarning: kneighbors: neighbor k+1 and neighbor k have the same distance: results will be dependent on data order.\n",
        "  neigh_dist, neigh_ind = self.kneighbors(X)\n"
       ]
      },
      {
       "output_type": "stream",
       "stream": "stderr",
       "text": [
        "C:\\Python27\\lib\\site-packages\\sklearn\\neighbors\\classification.py:131: NeighborsWarning: kneighbors: neighbor k+1 and neighbor k have the same distance: results will be dependent on data order.\n",
        "  neigh_dist, neigh_ind = self.kneighbors(X)\n",
        "C:\\Python27\\lib\\site-packages\\sklearn\\neighbors\\classification.py:131: NeighborsWarning: kneighbors: neighbor k+1 and neighbor k have the same distance: results will be dependent on data order.\n",
        "  neigh_dist, neigh_ind = self.kneighbors(X)\n"
       ]
      },
      {
       "output_type": "stream",
       "stream": "stderr",
       "text": [
        "C:\\Python27\\lib\\site-packages\\sklearn\\neighbors\\classification.py:131: NeighborsWarning: kneighbors: neighbor k+1 and neighbor k have the same distance: results will be dependent on data order.\n",
        "  neigh_dist, neigh_ind = self.kneighbors(X)\n",
        "C:\\Python27\\lib\\site-packages\\sklearn\\neighbors\\classification.py:131: NeighborsWarning: kneighbors: neighbor k+1 and neighbor k have the same distance: results will be dependent on data order.\n",
        "  neigh_dist, neigh_ind = self.kneighbors(X)\n"
       ]
      },
      {
       "output_type": "stream",
       "stream": "stderr",
       "text": [
        "C:\\Python27\\lib\\site-packages\\sklearn\\neighbors\\classification.py:131: NeighborsWarning: kneighbors: neighbor k+1 and neighbor k have the same distance: results will be dependent on data order.\n",
        "  neigh_dist, neigh_ind = self.kneighbors(X)\n",
        "C:\\Python27\\lib\\site-packages\\sklearn\\neighbors\\classification.py:131: NeighborsWarning: kneighbors: neighbor k+1 and neighbor k have the same distance: results will be dependent on data order.\n",
        "  neigh_dist, neigh_ind = self.kneighbors(X)\n"
       ]
      },
      {
       "output_type": "stream",
       "stream": "stderr",
       "text": [
        "C:\\Python27\\lib\\site-packages\\sklearn\\neighbors\\classification.py:131: NeighborsWarning: kneighbors: neighbor k+1 and neighbor k have the same distance: results will be dependent on data order.\n",
        "  neigh_dist, neigh_ind = self.kneighbors(X)\n",
        "C:\\Python27\\lib\\site-packages\\sklearn\\neighbors\\classification.py:131: NeighborsWarning: kneighbors: neighbor k+1 and neighbor k have the same distance: results will be dependent on data order.\n",
        "  neigh_dist, neigh_ind = self.kneighbors(X)\n"
       ]
      },
      {
       "output_type": "stream",
       "stream": "stderr",
       "text": [
        "C:\\Python27\\lib\\site-packages\\sklearn\\neighbors\\classification.py:131: NeighborsWarning: kneighbors: neighbor k+1 and neighbor k have the same distance: results will be dependent on data order.\n",
        "  neigh_dist, neigh_ind = self.kneighbors(X)\n",
        "C:\\Python27\\lib\\site-packages\\sklearn\\neighbors\\classification.py:131: NeighborsWarning: kneighbors: neighbor k+1 and neighbor k have the same distance: results will be dependent on data order.\n",
        "  neigh_dist, neigh_ind = self.kneighbors(X)\n"
       ]
      },
      {
       "output_type": "stream",
       "stream": "stderr",
       "text": [
        "C:\\Python27\\lib\\site-packages\\sklearn\\neighbors\\classification.py:131: NeighborsWarning: kneighbors: neighbor k+1 and neighbor k have the same distance: results will be dependent on data order.\n",
        "  neigh_dist, neigh_ind = self.kneighbors(X)\n",
        "C:\\Python27\\lib\\site-packages\\sklearn\\neighbors\\classification.py:131: NeighborsWarning: kneighbors: neighbor k+1 and neighbor k have the same distance: results will be dependent on data order.\n",
        "  neigh_dist, neigh_ind = self.kneighbors(X)\n"
       ]
      },
      {
       "output_type": "stream",
       "stream": "stderr",
       "text": [
        "C:\\Python27\\lib\\site-packages\\sklearn\\neighbors\\classification.py:131: NeighborsWarning: kneighbors: neighbor k+1 and neighbor k have the same distance: results will be dependent on data order.\n",
        "  neigh_dist, neigh_ind = self.kneighbors(X)\n",
        "C:\\Python27\\lib\\site-packages\\sklearn\\neighbors\\classification.py:131: NeighborsWarning: kneighbors: neighbor k+1 and neighbor k have the same distance: results will be dependent on data order.\n",
        "  neigh_dist, neigh_ind = self.kneighbors(X)\n"
       ]
      },
      {
       "output_type": "stream",
       "stream": "stderr",
       "text": [
        "C:\\Python27\\lib\\site-packages\\sklearn\\neighbors\\classification.py:131: NeighborsWarning: kneighbors: neighbor k+1 and neighbor k have the same distance: results will be dependent on data order.\n",
        "  neigh_dist, neigh_ind = self.kneighbors(X)\n",
        "C:\\Python27\\lib\\site-packages\\sklearn\\neighbors\\classification.py:131: NeighborsWarning: kneighbors: neighbor k+1 and neighbor k have the same distance: results will be dependent on data order.\n",
        "  neigh_dist, neigh_ind = self.kneighbors(X)\n"
       ]
      },
      {
       "output_type": "stream",
       "stream": "stderr",
       "text": [
        "C:\\Python27\\lib\\site-packages\\sklearn\\neighbors\\classification.py:131: NeighborsWarning: kneighbors: neighbor k+1 and neighbor k have the same distance: results will be dependent on data order.\n",
        "  neigh_dist, neigh_ind = self.kneighbors(X)\n",
        "C:\\Python27\\lib\\site-packages\\sklearn\\neighbors\\classification.py:131: NeighborsWarning: kneighbors: neighbor k+1 and neighbor k have the same distance: results will be dependent on data order.\n",
        "  neigh_dist, neigh_ind = self.kneighbors(X)\n"
       ]
      },
      {
       "output_type": "stream",
       "stream": "stderr",
       "text": [
        "C:\\Python27\\lib\\site-packages\\sklearn\\neighbors\\classification.py:131: NeighborsWarning: kneighbors: neighbor k+1 and neighbor k have the same distance: results will be dependent on data order.\n",
        "  neigh_dist, neigh_ind = self.kneighbors(X)\n",
        "C:\\Python27\\lib\\site-packages\\sklearn\\neighbors\\classification.py:131: NeighborsWarning: kneighbors: neighbor k+1 and neighbor k have the same distance: results will be dependent on data order.\n",
        "  neigh_dist, neigh_ind = self.kneighbors(X)\n"
       ]
      },
      {
       "output_type": "stream",
       "stream": "stderr",
       "text": [
        "C:\\Python27\\lib\\site-packages\\sklearn\\neighbors\\classification.py:131: NeighborsWarning: kneighbors: neighbor k+1 and neighbor k have the same distance: results will be dependent on data order.\n",
        "  neigh_dist, neigh_ind = self.kneighbors(X)\n",
        "C:\\Python27\\lib\\site-packages\\sklearn\\neighbors\\classification.py:131: NeighborsWarning: kneighbors: neighbor k+1 and neighbor k have the same distance: results will be dependent on data order.\n",
        "  neigh_dist, neigh_ind = self.kneighbors(X)\n"
       ]
      },
      {
       "output_type": "stream",
       "stream": "stderr",
       "text": [
        "C:\\Python27\\lib\\site-packages\\sklearn\\neighbors\\classification.py:131: NeighborsWarning: kneighbors: neighbor k+1 and neighbor k have the same distance: results will be dependent on data order.\n",
        "  neigh_dist, neigh_ind = self.kneighbors(X)\n",
        "C:\\Python27\\lib\\site-packages\\sklearn\\neighbors\\classification.py:131: NeighborsWarning: kneighbors: neighbor k+1 and neighbor k have the same distance: results will be dependent on data order.\n",
        "  neigh_dist, neigh_ind = self.kneighbors(X)\n"
       ]
      },
      {
       "output_type": "stream",
       "stream": "stderr",
       "text": [
        "C:\\Python27\\lib\\site-packages\\sklearn\\neighbors\\classification.py:131: NeighborsWarning: kneighbors: neighbor k+1 and neighbor k have the same distance: results will be dependent on data order.\n",
        "  neigh_dist, neigh_ind = self.kneighbors(X)\n",
        "C:\\Python27\\lib\\site-packages\\sklearn\\neighbors\\classification.py:131: NeighborsWarning: kneighbors: neighbor k+1 and neighbor k have the same distance: results will be dependent on data order.\n",
        "  neigh_dist, neigh_ind = self.kneighbors(X)\n"
       ]
      },
      {
       "output_type": "stream",
       "stream": "stderr",
       "text": [
        "C:\\Python27\\lib\\site-packages\\sklearn\\neighbors\\classification.py:131: NeighborsWarning: kneighbors: neighbor k+1 and neighbor k have the same distance: results will be dependent on data order.\n",
        "  neigh_dist, neigh_ind = self.kneighbors(X)\n",
        "C:\\Python27\\lib\\site-packages\\sklearn\\neighbors\\classification.py:131: NeighborsWarning: kneighbors: neighbor k+1 and neighbor k have the same distance: results will be dependent on data order.\n",
        "  neigh_dist, neigh_ind = self.kneighbors(X)\n"
       ]
      },
      {
       "output_type": "stream",
       "stream": "stderr",
       "text": [
        "C:\\Python27\\lib\\site-packages\\sklearn\\neighbors\\classification.py:131: NeighborsWarning: kneighbors: neighbor k+1 and neighbor k have the same distance: results will be dependent on data order.\n",
        "  neigh_dist, neigh_ind = self.kneighbors(X)\n",
        "C:\\Python27\\lib\\site-packages\\sklearn\\neighbors\\classification.py:131: NeighborsWarning: kneighbors: neighbor k+1 and neighbor k have the same distance: results will be dependent on data order.\n",
        "  neigh_dist, neigh_ind = self.kneighbors(X)\n"
       ]
      },
      {
       "output_type": "stream",
       "stream": "stderr",
       "text": [
        "C:\\Python27\\lib\\site-packages\\sklearn\\neighbors\\classification.py:131: NeighborsWarning: kneighbors: neighbor k+1 and neighbor k have the same distance: results will be dependent on data order.\n",
        "  neigh_dist, neigh_ind = self.kneighbors(X)\n",
        "C:\\Python27\\lib\\site-packages\\sklearn\\neighbors\\classification.py:131: NeighborsWarning: kneighbors: neighbor k+1 and neighbor k have the same distance: results will be dependent on data order.\n",
        "  neigh_dist, neigh_ind = self.kneighbors(X)\n"
       ]
      },
      {
       "output_type": "stream",
       "stream": "stderr",
       "text": [
        "C:\\Python27\\lib\\site-packages\\sklearn\\neighbors\\classification.py:131: NeighborsWarning: kneighbors: neighbor k+1 and neighbor k have the same distance: results will be dependent on data order.\n",
        "  neigh_dist, neigh_ind = self.kneighbors(X)\n",
        "C:\\Python27\\lib\\site-packages\\sklearn\\neighbors\\classification.py:131: NeighborsWarning: kneighbors: neighbor k+1 and neighbor k have the same distance: results will be dependent on data order.\n",
        "  neigh_dist, neigh_ind = self.kneighbors(X)\n"
       ]
      },
      {
       "output_type": "stream",
       "stream": "stderr",
       "text": [
        "C:\\Python27\\lib\\site-packages\\sklearn\\neighbors\\classification.py:131: NeighborsWarning: kneighbors: neighbor k+1 and neighbor k have the same distance: results will be dependent on data order.\n",
        "  neigh_dist, neigh_ind = self.kneighbors(X)\n",
        "C:\\Python27\\lib\\site-packages\\sklearn\\neighbors\\classification.py:131: NeighborsWarning: kneighbors: neighbor k+1 and neighbor k have the same distance: results will be dependent on data order.\n",
        "  neigh_dist, neigh_ind = self.kneighbors(X)\n"
       ]
      },
      {
       "output_type": "stream",
       "stream": "stderr",
       "text": [
        "C:\\Python27\\lib\\site-packages\\sklearn\\neighbors\\classification.py:131: NeighborsWarning: kneighbors: neighbor k+1 and neighbor k have the same distance: results will be dependent on data order.\n",
        "  neigh_dist, neigh_ind = self.kneighbors(X)\n",
        "C:\\Python27\\lib\\site-packages\\sklearn\\neighbors\\classification.py:131: NeighborsWarning: kneighbors: neighbor k+1 and neighbor k have the same distance: results will be dependent on data order.\n",
        "  neigh_dist, neigh_ind = self.kneighbors(X)\n"
       ]
      },
      {
       "output_type": "stream",
       "stream": "stderr",
       "text": [
        "C:\\Python27\\lib\\site-packages\\sklearn\\neighbors\\classification.py:131: NeighborsWarning: kneighbors: neighbor k+1 and neighbor k have the same distance: results will be dependent on data order.\n",
        "  neigh_dist, neigh_ind = self.kneighbors(X)\n",
        "C:\\Python27\\lib\\site-packages\\sklearn\\neighbors\\classification.py:131: NeighborsWarning: kneighbors: neighbor k+1 and neighbor k have the same distance: results will be dependent on data order.\n",
        "  neigh_dist, neigh_ind = self.kneighbors(X)\n"
       ]
      },
      {
       "output_type": "stream",
       "stream": "stderr",
       "text": [
        "C:\\Python27\\lib\\site-packages\\sklearn\\neighbors\\classification.py:131: NeighborsWarning: kneighbors: neighbor k+1 and neighbor k have the same distance: results will be dependent on data order.\n",
        "  neigh_dist, neigh_ind = self.kneighbors(X)\n",
        "C:\\Python27\\lib\\site-packages\\sklearn\\neighbors\\classification.py:131: NeighborsWarning: kneighbors: neighbor k+1 and neighbor k have the same distance: results will be dependent on data order.\n",
        "  neigh_dist, neigh_ind = self.kneighbors(X)\n"
       ]
      },
      {
       "output_type": "stream",
       "stream": "stderr",
       "text": [
        "C:\\Python27\\lib\\site-packages\\sklearn\\neighbors\\classification.py:131: NeighborsWarning: kneighbors: neighbor k+1 and neighbor k have the same distance: results will be dependent on data order.\n",
        "  neigh_dist, neigh_ind = self.kneighbors(X)\n",
        "C:\\Python27\\lib\\site-packages\\sklearn\\neighbors\\classification.py:131: NeighborsWarning: kneighbors: neighbor k+1 and neighbor k have the same distance: results will be dependent on data order.\n",
        "  neigh_dist, neigh_ind = self.kneighbors(X)\n"
       ]
      },
      {
       "output_type": "stream",
       "stream": "stderr",
       "text": [
        "C:\\Python27\\lib\\site-packages\\sklearn\\neighbors\\classification.py:131: NeighborsWarning: kneighbors: neighbor k+1 and neighbor k have the same distance: results will be dependent on data order.\n",
        "  neigh_dist, neigh_ind = self.kneighbors(X)\n",
        "C:\\Python27\\lib\\site-packages\\sklearn\\neighbors\\classification.py:131: NeighborsWarning: kneighbors: neighbor k+1 and neighbor k have the same distance: results will be dependent on data order.\n",
        "  neigh_dist, neigh_ind = self.kneighbors(X)\n"
       ]
      },
      {
       "output_type": "stream",
       "stream": "stderr",
       "text": [
        "C:\\Python27\\lib\\site-packages\\sklearn\\neighbors\\classification.py:131: NeighborsWarning: kneighbors: neighbor k+1 and neighbor k have the same distance: results will be dependent on data order.\n",
        "  neigh_dist, neigh_ind = self.kneighbors(X)\n",
        "C:\\Python27\\lib\\site-packages\\sklearn\\neighbors\\classification.py:131: NeighborsWarning: kneighbors: neighbor k+1 and neighbor k have the same distance: results will be dependent on data order.\n",
        "  neigh_dist, neigh_ind = self.kneighbors(X)\n"
       ]
      },
      {
       "output_type": "stream",
       "stream": "stderr",
       "text": [
        "C:\\Python27\\lib\\site-packages\\sklearn\\neighbors\\classification.py:131: NeighborsWarning: kneighbors: neighbor k+1 and neighbor k have the same distance: results will be dependent on data order.\n",
        "  neigh_dist, neigh_ind = self.kneighbors(X)\n",
        "C:\\Python27\\lib\\site-packages\\sklearn\\neighbors\\classification.py:131: NeighborsWarning: kneighbors: neighbor k+1 and neighbor k have the same distance: results will be dependent on data order.\n",
        "  neigh_dist, neigh_ind = self.kneighbors(X)\n"
       ]
      },
      {
       "metadata": {},
       "output_type": "pyout",
       "prompt_number": 532,
       "text": [
        "GridSearchCV(cv=3,\n",
        "       estimator=KNeighborsClassifier(algorithm='auto', leaf_size=30, n_neighbors=1, p=2,\n",
        "           warn_on_equidistant=True, weights='uniform'),\n",
        "       fit_params={}, iid=True, loss_func=None, n_jobs=1,\n",
        "       param_grid={'n_neighbors': [1, 6, 11, 16, 21, 26, 31, 36, 41, 46, 51], 'weights': ('uniform', 'distance')},\n",
        "       pre_dispatch='2*n_jobs', refit=True, score_func=None, verbose=0)"
       ]
      }
     ],
     "prompt_number": 532
    },
    {
     "cell_type": "code",
     "collapsed": false,
     "input": [
      "meansU = []\n",
      "stdsU = []\n",
      "meansD = []\n",
      "stdsD = []\n",
      "for elem in grid_searcher.grid_scores_:\n",
      "    if elem[0]['weights']=='uniform':\n",
      "        meansU.append(np.mean(elem[2]))\n",
      "        stdsU.append(sqrt(np.var(elem[2])))\n",
      "    else:\n",
      "        meansD.append(np.mean(elem[2]))\n",
      "        stdsD.append(sqrt(np.var(elem[2])))\n",
      "meansU = np.array(meansU)\n",
      "stdsU = np.array(stdsU)\n",
      "meansD = np.array(meansD)\n",
      "stdsD = np.array(stdsD)"
     ],
     "language": "python",
     "metadata": {},
     "outputs": [],
     "prompt_number": 548
    },
    {
     "cell_type": "code",
     "collapsed": false,
     "input": [
      "pl.figure(figsize=(8, 6))\n",
      "pl.plot(rng,meansU)\n",
      "pl.fill_between(rng, meansU + stdsU, meansU - stdsU, alpha = 0.1, facecolor='blue')\n",
      "pl.xlabel('Number of nearest neighbours')\n",
      "pl.ylabel('Accuracy')"
     ],
     "language": "python",
     "metadata": {},
     "outputs": [
      {
       "metadata": {},
       "output_type": "pyout",
       "prompt_number": 558,
       "text": [
        "<matplotlib.text.Text at 0x154f1f90>"
       ]
      },
      {
       "metadata": {},
       "output_type": "display_data",
       "png": "[encoded data removed]",
       "text": [
        "<matplotlib.figure.Figure at 0x1b050130>"
       ]
      }
     ],
     "prompt_number": 558
    },
    {
     "cell_type": "code",
     "collapsed": false,
     "input": [
      "pl.figure(figsize=(8, 6))\n",
      "pl.plot(rng,meansD)\n",
      "pl.fill_between(rng, meansD + stdsD, meansD - stdsD, alpha = 0.1, facecolor='blue')\n",
      "pl.xlabel('Number of nearest neighbours')\n",
      "pl.ylabel('Accuracy')"
     ],
     "language": "python",
     "metadata": {},
     "outputs": [
      {
       "metadata": {},
       "output_type": "pyout",
       "prompt_number": 559,
       "text": [
        "<matplotlib.text.Text at 0x15b57970>"
       ]
      },
      {
       "metadata": {},
       "output_type": "display_data",
       "png": "[encoded data removed]",
       "text": [
        "<matplotlib.figure.Figure at 0x29e2c730>"
       ]
      }
     ],
     "prompt_number": 559
    },
    {
     "cell_type": "markdown",
     "metadata": {},
     "source": [
      "\u0418\u0437 \u0433\u0440\u0430\u0444\u0438\u043a\u043e\u0432 \u0432\u044b\u0448\u0435 \u044f\u0441\u043d\u043e, \u0447\u0442\u043e \u043e\u043f\u0442\u0438\u043c\u0430\u043b\u044c\u043d\u044b\u0439 \u043a\u043b\u0430\u0441\u0441\u0438\u0444\u0438\u043a\u0430\u0442\u043e\u0440 \u0441\u043b\u0435\u0434\u0443\u0435\u0442 \u0438\u0441\u043a\u0430\u0442\u044c \u0441\u0440\u0435\u0434\u0438 \u043a\u043b\u0430\u0441\u0441\u0438\u0444\u0438\u043a\u0430\u0442\u043e\u0440\u043e\u0432 \u0441 \u043e\u0434\u043d\u043e\u0440\u043e\u0434\u043d\u043e\u0439 \u0432\u0435\u0441\u043e\u0432\u043e\u0439 \u0441\u0445\u0435\u043c\u043e\u0439. \u0421\u0443\u0437\u0438\u043c \u0433\u0440\u0430\u043d\u0438\u0446\u044b \u043f\u043e\u0438\u0441\u043a\u0430 \u043e\u043f\u0442\u0438\u043c\u0430\u043b\u044c\u043d\u043e\u0433\u043e \u0447\u0438\u0441\u043b\u0430 \u0441\u043e\u0441\u0435\u0434\u0435\u0439 \u0434\u043e [10,25]"
     ]
    },
    {
     "cell_type": "code",
     "collapsed": false,
     "input": [
      "from sklearn.grid_search import GridSearchCV\n",
      "rng=range(10,26)\n",
      "params = {'n_neighbors': rng}\n",
      "grid_searcher = GridSearchCV(clf, params, cv=5)\n",
      "grid_searcher.fit(X, y)"
     ],
     "language": "python",
     "metadata": {},
     "outputs": [
      {
       "output_type": "stream",
       "stream": "stderr",
       "text": [
        "C:\\Python27\\lib\\site-packages\\sklearn\\neighbors\\classification.py:131: NeighborsWarning: kneighbors: neighbor k+1 and neighbor k have the same distance: results will be dependent on data order.\n",
        "  neigh_dist, neigh_ind = self.kneighbors(X)\n",
        "C:\\Python27\\lib\\site-packages\\sklearn\\neighbors\\classification.py:131: NeighborsWarning: kneighbors: neighbor k+1 and neighbor k have the same distance: results will be dependent on data order.\n",
        "  neigh_dist, neigh_ind = self.kneighbors(X)\n"
       ]
      },
      {
       "output_type": "stream",
       "stream": "stderr",
       "text": [
        "C:\\Python27\\lib\\site-packages\\sklearn\\neighbors\\classification.py:131: NeighborsWarning: kneighbors: neighbor k+1 and neighbor k have the same distance: results will be dependent on data order.\n",
        "  neigh_dist, neigh_ind = self.kneighbors(X)\n",
        "C:\\Python27\\lib\\site-packages\\sklearn\\neighbors\\classification.py:131: NeighborsWarning: kneighbors: neighbor k+1 and neighbor k have the same distance: results will be dependent on data order.\n",
        "  neigh_dist, neigh_ind = self.kneighbors(X)\n"
       ]
      },
      {
       "output_type": "stream",
       "stream": "stderr",
       "text": [
        "C:\\Python27\\lib\\site-packages\\sklearn\\neighbors\\classification.py:131: NeighborsWarning: kneighbors: neighbor k+1 and neighbor k have the same distance: results will be dependent on data order.\n",
        "  neigh_dist, neigh_ind = self.kneighbors(X)\n",
        "C:\\Python27\\lib\\site-packages\\sklearn\\neighbors\\classification.py:131: NeighborsWarning: kneighbors: neighbor k+1 and neighbor k have the same distance: results will be dependent on data order.\n",
        "  neigh_dist, neigh_ind = self.kneighbors(X)\n"
       ]
      },
      {
       "output_type": "stream",
       "stream": "stderr",
       "text": [
        "C:\\Python27\\lib\\site-packages\\sklearn\\neighbors\\classification.py:131: NeighborsWarning: kneighbors: neighbor k+1 and neighbor k have the same distance: results will be dependent on data order.\n",
        "  neigh_dist, neigh_ind = self.kneighbors(X)\n",
        "C:\\Python27\\lib\\site-packages\\sklearn\\neighbors\\classification.py:131: NeighborsWarning: kneighbors: neighbor k+1 and neighbor k have the same distance: results will be dependent on data order.\n",
        "  neigh_dist, neigh_ind = self.kneighbors(X)\n"
       ]
      },
      {
       "output_type": "stream",
       "stream": "stderr",
       "text": [
        "C:\\Python27\\lib\\site-packages\\sklearn\\neighbors\\classification.py:131: NeighborsWarning: kneighbors: neighbor k+1 and neighbor k have the same distance: results will be dependent on data order.\n",
        "  neigh_dist, neigh_ind = self.kneighbors(X)\n",
        "C:\\Python27\\lib\\site-packages\\sklearn\\neighbors\\classification.py:131: NeighborsWarning: kneighbors: neighbor k+1 and neighbor k have the same distance: results will be dependent on data order.\n",
        "  neigh_dist, neigh_ind = self.kneighbors(X)\n"
       ]
      },
      {
       "output_type": "stream",
       "stream": "stderr",
       "text": [
        "C:\\Python27\\lib\\site-packages\\sklearn\\neighbors\\classification.py:131: NeighborsWarning: kneighbors: neighbor k+1 and neighbor k have the same distance: results will be dependent on data order.\n",
        "  neigh_dist, neigh_ind = self.kneighbors(X)\n",
        "C:\\Python27\\lib\\site-packages\\sklearn\\neighbors\\classification.py:131: NeighborsWarning: kneighbors: neighbor k+1 and neighbor k have the same distance: results will be dependent on data order.\n",
        "  neigh_dist, neigh_ind = self.kneighbors(X)\n"
       ]
      },
      {
       "output_type": "stream",
       "stream": "stderr",
       "text": [
        "C:\\Python27\\lib\\site-packages\\sklearn\\neighbors\\classification.py:131: NeighborsWarning: kneighbors: neighbor k+1 and neighbor k have the same distance: results will be dependent on data order.\n",
        "  neigh_dist, neigh_ind = self.kneighbors(X)\n",
        "C:\\Python27\\lib\\site-packages\\sklearn\\neighbors\\classification.py:131: NeighborsWarning: kneighbors: neighbor k+1 and neighbor k have the same distance: results will be dependent on data order.\n",
        "  neigh_dist, neigh_ind = self.kneighbors(X)\n"
       ]
      },
      {
       "output_type": "stream",
       "stream": "stderr",
       "text": [
        "C:\\Python27\\lib\\site-packages\\sklearn\\neighbors\\classification.py:131: NeighborsWarning: kneighbors: neighbor k+1 and neighbor k have the same distance: results will be dependent on data order.\n",
        "  neigh_dist, neigh_ind = self.kneighbors(X)\n",
        "C:\\Python27\\lib\\site-packages\\sklearn\\neighbors\\classification.py:131: NeighborsWarning: kneighbors: neighbor k+1 and neighbor k have the same distance: results will be dependent on data order.\n",
        "  neigh_dist, neigh_ind = self.kneighbors(X)\n"
       ]
      },
      {
       "output_type": "stream",
       "stream": "stderr",
       "text": [
        "C:\\Python27\\lib\\site-packages\\sklearn\\neighbors\\classification.py:131: NeighborsWarning: kneighbors: neighbor k+1 and neighbor k have the same distance: results will be dependent on data order.\n",
        "  neigh_dist, neigh_ind = self.kneighbors(X)\n",
        "C:\\Python27\\lib\\site-packages\\sklearn\\neighbors\\classification.py:131: NeighborsWarning: kneighbors: neighbor k+1 and neighbor k have the same distance: results will be dependent on data order.\n",
        "  neigh_dist, neigh_ind = self.kneighbors(X)\n"
       ]
      },
      {
       "output_type": "stream",
       "stream": "stderr",
       "text": [
        "C:\\Python27\\lib\\site-packages\\sklearn\\neighbors\\classification.py:131: NeighborsWarning: kneighbors: neighbor k+1 and neighbor k have the same distance: results will be dependent on data order.\n",
        "  neigh_dist, neigh_ind = self.kneighbors(X)\n",
        "C:\\Python27\\lib\\site-packages\\sklearn\\neighbors\\classification.py:131: NeighborsWarning: kneighbors: neighbor k+1 and neighbor k have the same distance: results will be dependent on data order.\n",
        "  neigh_dist, neigh_ind = self.kneighbors(X)\n"
       ]
      },
      {
       "output_type": "stream",
       "stream": "stderr",
       "text": [
        "C:\\Python27\\lib\\site-packages\\sklearn\\neighbors\\classification.py:131: NeighborsWarning: kneighbors: neighbor k+1 and neighbor k have the same distance: results will be dependent on data order.\n",
        "  neigh_dist, neigh_ind = self.kneighbors(X)\n",
        "C:\\Python27\\lib\\site-packages\\sklearn\\neighbors\\classification.py:131: NeighborsWarning: kneighbors: neighbor k+1 and neighbor k have the same distance: results will be dependent on data order.\n",
        "  neigh_dist, neigh_ind = self.kneighbors(X)\n"
       ]
      },
      {
       "output_type": "stream",
       "stream": "stderr",
       "text": [
        "C:\\Python27\\lib\\site-packages\\sklearn\\neighbors\\classification.py:131: NeighborsWarning: kneighbors: neighbor k+1 and neighbor k have the same distance: results will be dependent on data order.\n",
        "  neigh_dist, neigh_ind = self.kneighbors(X)\n",
        "C:\\Python27\\lib\\site-packages\\sklearn\\neighbors\\classification.py:131: NeighborsWarning: kneighbors: neighbor k+1 and neighbor k have the same distance: results will be dependent on data order.\n",
        "  neigh_dist, neigh_ind = self.kneighbors(X)\n"
       ]
      },
      {
       "output_type": "stream",
       "stream": "stderr",
       "text": [
        "C:\\Python27\\lib\\site-packages\\sklearn\\neighbors\\classification.py:131: NeighborsWarning: kneighbors: neighbor k+1 and neighbor k have the same distance: results will be dependent on data order.\n",
        "  neigh_dist, neigh_ind = self.kneighbors(X)\n",
        "C:\\Python27\\lib\\site-packages\\sklearn\\neighbors\\classification.py:131: NeighborsWarning: kneighbors: neighbor k+1 and neighbor k have the same distance: results will be dependent on data order.\n",
        "  neigh_dist, neigh_ind = self.kneighbors(X)\n"
       ]
      },
      {
       "output_type": "stream",
       "stream": "stderr",
       "text": [
        "C:\\Python27\\lib\\site-packages\\sklearn\\neighbors\\classification.py:131: NeighborsWarning: kneighbors: neighbor k+1 and neighbor k have the same distance: results will be dependent on data order.\n",
        "  neigh_dist, neigh_ind = self.kneighbors(X)\n",
        "C:\\Python27\\lib\\site-packages\\sklearn\\neighbors\\classification.py:131: NeighborsWarning: kneighbors: neighbor k+1 and neighbor k have the same distance: results will be dependent on data order.\n",
        "  neigh_dist, neigh_ind = self.kneighbors(X)\n"
       ]
      },
      {
       "output_type": "stream",
       "stream": "stderr",
       "text": [
        "C:\\Python27\\lib\\site-packages\\sklearn\\neighbors\\classification.py:131: NeighborsWarning: kneighbors: neighbor k+1 and neighbor k have the same distance: results will be dependent on data order.\n",
        "  neigh_dist, neigh_ind = self.kneighbors(X)\n",
        "C:\\Python27\\lib\\site-packages\\sklearn\\neighbors\\classification.py:131: NeighborsWarning: kneighbors: neighbor k+1 and neighbor k have the same distance: results will be dependent on data order.\n",
        "  neigh_dist, neigh_ind = self.kneighbors(X)\n"
       ]
      },
      {
       "output_type": "stream",
       "stream": "stderr",
       "text": [
        "C:\\Python27\\lib\\site-packages\\sklearn\\neighbors\\classification.py:131: NeighborsWarning: kneighbors: neighbor k+1 and neighbor k have the same distance: results will be dependent on data order.\n",
        "  neigh_dist, neigh_ind = self.kneighbors(X)\n",
        "C:\\Python27\\lib\\site-packages\\sklearn\\neighbors\\classification.py:131: NeighborsWarning: kneighbors: neighbor k+1 and neighbor k have the same distance: results will be dependent on data order.\n",
        "  neigh_dist, neigh_ind = self.kneighbors(X)\n"
       ]
      },
      {
       "output_type": "stream",
       "stream": "stderr",
       "text": [
        "C:\\Python27\\lib\\site-packages\\sklearn\\neighbors\\classification.py:131: NeighborsWarning: kneighbors: neighbor k+1 and neighbor k have the same distance: results will be dependent on data order.\n",
        "  neigh_dist, neigh_ind = self.kneighbors(X)\n",
        "C:\\Python27\\lib\\site-packages\\sklearn\\neighbors\\classification.py:131: NeighborsWarning: kneighbors: neighbor k+1 and neighbor k have the same distance: results will be dependent on data order.\n",
        "  neigh_dist, neigh_ind = self.kneighbors(X)\n"
       ]
      },
      {
       "output_type": "stream",
       "stream": "stderr",
       "text": [
        "C:\\Python27\\lib\\site-packages\\sklearn\\neighbors\\classification.py:131: NeighborsWarning: kneighbors: neighbor k+1 and neighbor k have the same distance: results will be dependent on data order.\n",
        "  neigh_dist, neigh_ind = self.kneighbors(X)\n",
        "C:\\Python27\\lib\\site-packages\\sklearn\\neighbors\\classification.py:131: NeighborsWarning: kneighbors: neighbor k+1 and neighbor k have the same distance: results will be dependent on data order.\n",
        "  neigh_dist, neigh_ind = self.kneighbors(X)\n"
       ]
      },
      {
       "output_type": "stream",
       "stream": "stderr",
       "text": [
        "C:\\Python27\\lib\\site-packages\\sklearn\\neighbors\\classification.py:131: NeighborsWarning: kneighbors: neighbor k+1 and neighbor k have the same distance: results will be dependent on data order.\n",
        "  neigh_dist, neigh_ind = self.kneighbors(X)\n",
        "C:\\Python27\\lib\\site-packages\\sklearn\\neighbors\\classification.py:131: NeighborsWarning: kneighbors: neighbor k+1 and neighbor k have the same distance: results will be dependent on data order.\n",
        "  neigh_dist, neigh_ind = self.kneighbors(X)\n"
       ]
      },
      {
       "output_type": "stream",
       "stream": "stderr",
       "text": [
        "C:\\Python27\\lib\\site-packages\\sklearn\\neighbors\\classification.py:131: NeighborsWarning: kneighbors: neighbor k+1 and neighbor k have the same distance: results will be dependent on data order.\n",
        "  neigh_dist, neigh_ind = self.kneighbors(X)\n",
        "C:\\Python27\\lib\\site-packages\\sklearn\\neighbors\\classification.py:131: NeighborsWarning: kneighbors: neighbor k+1 and neighbor k have the same distance: results will be dependent on data order.\n",
        "  neigh_dist, neigh_ind = self.kneighbors(X)\n"
       ]
      },
      {
       "output_type": "stream",
       "stream": "stderr",
       "text": [
        "C:\\Python27\\lib\\site-packages\\sklearn\\neighbors\\classification.py:131: NeighborsWarning: kneighbors: neighbor k+1 and neighbor k have the same distance: results will be dependent on data order.\n",
        "  neigh_dist, neigh_ind = self.kneighbors(X)\n",
        "C:\\Python27\\lib\\site-packages\\sklearn\\neighbors\\classification.py:131: NeighborsWarning: kneighbors: neighbor k+1 and neighbor k have the same distance: results will be dependent on data order.\n",
        "  neigh_dist, neigh_ind = self.kneighbors(X)\n"
       ]
      },
      {
       "output_type": "stream",
       "stream": "stderr",
       "text": [
        "C:\\Python27\\lib\\site-packages\\sklearn\\neighbors\\classification.py:131: NeighborsWarning: kneighbors: neighbor k+1 and neighbor k have the same distance: results will be dependent on data order.\n",
        "  neigh_dist, neigh_ind = self.kneighbors(X)\n",
        "C:\\Python27\\lib\\site-packages\\sklearn\\neighbors\\classification.py:131: NeighborsWarning: kneighbors: neighbor k+1 and neighbor k have the same distance: results will be dependent on data order.\n",
        "  neigh_dist, neigh_ind = self.kneighbors(X)\n"
       ]
      },
      {
       "output_type": "stream",
       "stream": "stderr",
       "text": [
        "C:\\Python27\\lib\\site-packages\\sklearn\\neighbors\\classification.py:131: NeighborsWarning: kneighbors: neighbor k+1 and neighbor k have the same distance: results will be dependent on data order.\n",
        "  neigh_dist, neigh_ind = self.kneighbors(X)\n",
        "C:\\Python27\\lib\\site-packages\\sklearn\\neighbors\\classification.py:131: NeighborsWarning: kneighbors: neighbor k+1 and neighbor k have the same distance: results will be dependent on data order.\n",
        "  neigh_dist, neigh_ind = self.kneighbors(X)\n"
       ]
      },
      {
       "output_type": "stream",
       "stream": "stderr",
       "text": [
        "C:\\Python27\\lib\\site-packages\\sklearn\\neighbors\\classification.py:131: NeighborsWarning: kneighbors: neighbor k+1 and neighbor k have the same distance: results will be dependent on data order.\n",
        "  neigh_dist, neigh_ind = self.kneighbors(X)\n",
        "C:\\Python27\\lib\\site-packages\\sklearn\\neighbors\\classification.py:131: NeighborsWarning: kneighbors: neighbor k+1 and neighbor k have the same distance: results will be dependent on data order.\n",
        "  neigh_dist, neigh_ind = self.kneighbors(X)\n"
       ]
      },
      {
       "output_type": "stream",
       "stream": "stderr",
       "text": [
        "C:\\Python27\\lib\\site-packages\\sklearn\\neighbors\\classification.py:131: NeighborsWarning: kneighbors: neighbor k+1 and neighbor k have the same distance: results will be dependent on data order.\n",
        "  neigh_dist, neigh_ind = self.kneighbors(X)\n",
        "C:\\Python27\\lib\\site-packages\\sklearn\\neighbors\\classification.py:131: NeighborsWarning: kneighbors: neighbor k+1 and neighbor k have the same distance: results will be dependent on data order.\n",
        "  neigh_dist, neigh_ind = self.kneighbors(X)\n"
       ]
      },
      {
       "output_type": "stream",
       "stream": "stderr",
       "text": [
        "C:\\Python27\\lib\\site-packages\\sklearn\\neighbors\\classification.py:131: NeighborsWarning: kneighbors: neighbor k+1 and neighbor k have the same distance: results will be dependent on data order.\n",
        "  neigh_dist, neigh_ind = self.kneighbors(X)\n",
        "C:\\Python27\\lib\\site-packages\\sklearn\\neighbors\\classification.py:131: NeighborsWarning: kneighbors: neighbor k+1 and neighbor k have the same distance: results will be dependent on data order.\n",
        "  neigh_dist, neigh_ind = self.kneighbors(X)\n"
       ]
      },
      {
       "output_type": "stream",
       "stream": "stderr",
       "text": [
        "C:\\Python27\\lib\\site-packages\\sklearn\\neighbors\\classification.py:131: NeighborsWarning: kneighbors: neighbor k+1 and neighbor k have the same distance: results will be dependent on data order.\n",
        "  neigh_dist, neigh_ind = self.kneighbors(X)\n",
        "C:\\Python27\\lib\\site-packages\\sklearn\\neighbors\\classification.py:131: NeighborsWarning: kneighbors: neighbor k+1 and neighbor k have the same distance: results will be dependent on data order.\n",
        "  neigh_dist, neigh_ind = self.kneighbors(X)\n"
       ]
      },
      {
       "output_type": "stream",
       "stream": "stderr",
       "text": [
        "C:\\Python27\\lib\\site-packages\\sklearn\\neighbors\\classification.py:131: NeighborsWarning: kneighbors: neighbor k+1 and neighbor k have the same distance: results will be dependent on data order.\n",
        "  neigh_dist, neigh_ind = self.kneighbors(X)\n",
        "C:\\Python27\\lib\\site-packages\\sklearn\\neighbors\\classification.py:131: NeighborsWarning: kneighbors: neighbor k+1 and neighbor k have the same distance: results will be dependent on data order.\n",
        "  neigh_dist, neigh_ind = self.kneighbors(X)\n"
       ]
      },
      {
       "output_type": "stream",
       "stream": "stderr",
       "text": [
        "C:\\Python27\\lib\\site-packages\\sklearn\\neighbors\\classification.py:131: NeighborsWarning: kneighbors: neighbor k+1 and neighbor k have the same distance: results will be dependent on data order.\n",
        "  neigh_dist, neigh_ind = self.kneighbors(X)\n",
        "C:\\Python27\\lib\\site-packages\\sklearn\\neighbors\\classification.py:131: NeighborsWarning: kneighbors: neighbor k+1 and neighbor k have the same distance: results will be dependent on data order.\n",
        "  neigh_dist, neigh_ind = self.kneighbors(X)\n"
       ]
      },
      {
       "output_type": "stream",
       "stream": "stderr",
       "text": [
        "C:\\Python27\\lib\\site-packages\\sklearn\\neighbors\\classification.py:131: NeighborsWarning: kneighbors: neighbor k+1 and neighbor k have the same distance: results will be dependent on data order.\n",
        "  neigh_dist, neigh_ind = self.kneighbors(X)\n",
        "C:\\Python27\\lib\\site-packages\\sklearn\\neighbors\\classification.py:131: NeighborsWarning: kneighbors: neighbor k+1 and neighbor k have the same distance: results will be dependent on data order.\n",
        "  neigh_dist, neigh_ind = self.kneighbors(X)\n"
       ]
      },
      {
       "output_type": "stream",
       "stream": "stderr",
       "text": [
        "C:\\Python27\\lib\\site-packages\\sklearn\\neighbors\\classification.py:131: NeighborsWarning: kneighbors: neighbor k+1 and neighbor k have the same distance: results will be dependent on data order.\n",
        "  neigh_dist, neigh_ind = self.kneighbors(X)\n",
        "C:\\Python27\\lib\\site-packages\\sklearn\\neighbors\\classification.py:131: NeighborsWarning: kneighbors: neighbor k+1 and neighbor k have the same distance: results will be dependent on data order.\n",
        "  neigh_dist, neigh_ind = self.kneighbors(X)\n"
       ]
      },
      {
       "output_type": "stream",
       "stream": "stderr",
       "text": [
        "C:\\Python27\\lib\\site-packages\\sklearn\\neighbors\\classification.py:131: NeighborsWarning: kneighbors: neighbor k+1 and neighbor k have the same distance: results will be dependent on data order.\n",
        "  neigh_dist, neigh_ind = self.kneighbors(X)\n",
        "C:\\Python27\\lib\\site-packages\\sklearn\\neighbors\\classification.py:131: NeighborsWarning: kneighbors: neighbor k+1 and neighbor k have the same distance: results will be dependent on data order.\n",
        "  neigh_dist, neigh_ind = self.kneighbors(X)\n"
       ]
      },
      {
       "output_type": "stream",
       "stream": "stderr",
       "text": [
        "C:\\Python27\\lib\\site-packages\\sklearn\\neighbors\\classification.py:131: NeighborsWarning: kneighbors: neighbor k+1 and neighbor k have the same distance: results will be dependent on data order.\n",
        "  neigh_dist, neigh_ind = self.kneighbors(X)\n",
        "C:\\Python27\\lib\\site-packages\\sklearn\\neighbors\\classification.py:131: NeighborsWarning: kneighbors: neighbor k+1 and neighbor k have the same distance: results will be dependent on data order.\n",
        "  neigh_dist, neigh_ind = self.kneighbors(X)\n"
       ]
      },
      {
       "output_type": "stream",
       "stream": "stderr",
       "text": [
        "C:\\Python27\\lib\\site-packages\\sklearn\\neighbors\\classification.py:131: NeighborsWarning: kneighbors: neighbor k+1 and neighbor k have the same distance: results will be dependent on data order.\n",
        "  neigh_dist, neigh_ind = self.kneighbors(X)\n",
        "C:\\Python27\\lib\\site-packages\\sklearn\\neighbors\\classification.py:131: NeighborsWarning: kneighbors: neighbor k+1 and neighbor k have the same distance: results will be dependent on data order.\n",
        "  neigh_dist, neigh_ind = self.kneighbors(X)\n"
       ]
      },
      {
       "output_type": "stream",
       "stream": "stderr",
       "text": [
        "C:\\Python27\\lib\\site-packages\\sklearn\\neighbors\\classification.py:131: NeighborsWarning: kneighbors: neighbor k+1 and neighbor k have the same distance: results will be dependent on data order.\n",
        "  neigh_dist, neigh_ind = self.kneighbors(X)\n",
        "C:\\Python27\\lib\\site-packages\\sklearn\\neighbors\\classification.py:131: NeighborsWarning: kneighbors: neighbor k+1 and neighbor k have the same distance: results will be dependent on data order.\n",
        "  neigh_dist, neigh_ind = self.kneighbors(X)\n"
       ]
      },
      {
       "output_type": "stream",
       "stream": "stderr",
       "text": [
        "C:\\Python27\\lib\\site-packages\\sklearn\\neighbors\\classification.py:131: NeighborsWarning: kneighbors: neighbor k+1 and neighbor k have the same distance: results will be dependent on data order.\n",
        "  neigh_dist, neigh_ind = self.kneighbors(X)\n",
        "C:\\Python27\\lib\\site-packages\\sklearn\\neighbors\\classification.py:131: NeighborsWarning: kneighbors: neighbor k+1 and neighbor k have the same distance: results will be dependent on data order.\n",
        "  neigh_dist, neigh_ind = self.kneighbors(X)\n"
       ]
      },
      {
       "output_type": "stream",
       "stream": "stderr",
       "text": [
        "C:\\Python27\\lib\\site-packages\\sklearn\\neighbors\\classification.py:131: NeighborsWarning: kneighbors: neighbor k+1 and neighbor k have the same distance: results will be dependent on data order.\n",
        "  neigh_dist, neigh_ind = self.kneighbors(X)\n",
        "C:\\Python27\\lib\\site-packages\\sklearn\\neighbors\\classification.py:131: NeighborsWarning: kneighbors: neighbor k+1 and neighbor k have the same distance: results will be dependent on data order.\n",
        "  neigh_dist, neigh_ind = self.kneighbors(X)\n"
       ]
      },
      {
       "output_type": "stream",
       "stream": "stderr",
       "text": [
        "C:\\Python27\\lib\\site-packages\\sklearn\\neighbors\\classification.py:131: NeighborsWarning: kneighbors: neighbor k+1 and neighbor k have the same distance: results will be dependent on data order.\n",
        "  neigh_dist, neigh_ind = self.kneighbors(X)\n",
        "C:\\Python27\\lib\\site-packages\\sklearn\\neighbors\\classification.py:131: NeighborsWarning: kneighbors: neighbor k+1 and neighbor k have the same distance: results will be dependent on data order.\n",
        "  neigh_dist, neigh_ind = self.kneighbors(X)\n"
       ]
      },
      {
       "output_type": "stream",
       "stream": "stderr",
       "text": [
        "C:\\Python27\\lib\\site-packages\\sklearn\\neighbors\\classification.py:131: NeighborsWarning: kneighbors: neighbor k+1 and neighbor k have the same distance: results will be dependent on data order.\n",
        "  neigh_dist, neigh_ind = self.kneighbors(X)\n",
        "C:\\Python27\\lib\\site-packages\\sklearn\\neighbors\\classification.py:131: NeighborsWarning: kneighbors: neighbor k+1 and neighbor k have the same distance: results will be dependent on data order.\n",
        "  neigh_dist, neigh_ind = self.kneighbors(X)\n"
       ]
      },
      {
       "output_type": "stream",
       "stream": "stderr",
       "text": [
        "C:\\Python27\\lib\\site-packages\\sklearn\\neighbors\\classification.py:131: NeighborsWarning: kneighbors: neighbor k+1 and neighbor k have the same distance: results will be dependent on data order.\n",
        "  neigh_dist, neigh_ind = self.kneighbors(X)\n",
        "C:\\Python27\\lib\\site-packages\\sklearn\\neighbors\\classification.py:131: NeighborsWarning: kneighbors: neighbor k+1 and neighbor k have the same distance: results will be dependent on data order.\n",
        "  neigh_dist, neigh_ind = self.kneighbors(X)\n"
       ]
      },
      {
       "metadata": {},
       "output_type": "pyout",
       "prompt_number": 560,
       "text": [
        "GridSearchCV(cv=5,\n",
        "       estimator=KNeighborsClassifier(algorithm='auto', leaf_size=30, n_neighbors=1, p=2,\n",
        "           warn_on_equidistant=True, weights='uniform'),\n",
        "       fit_params={}, iid=True, loss_func=None, n_jobs=1,\n",
        "       param_grid={'n_neighbors': [10, 11, 12, 13, 14, 15, 16, 17, 18, 19, 20, 21, 22, 23, 24, 25]},\n",
        "       pre_dispatch='2*n_jobs', refit=True, score_func=None, verbose=0)"
       ]
      }
     ],
     "prompt_number": 560
    },
    {
     "cell_type": "code",
     "collapsed": false,
     "input": [
      "meansU = []\n",
      "stdsU = []\n",
      "\n",
      "for elem in grid_searcher.grid_scores_:\n",
      "    meansU.append(np.mean(elem[2]))\n",
      "    stdsU.append(sqrt(np.var(elem[2])))\n",
      "    \n",
      "meansU = np.array(meansU)\n",
      "stdsU = np.array(stdsU)\n"
     ],
     "language": "python",
     "metadata": {},
     "outputs": [],
     "prompt_number": 561
    },
    {
     "cell_type": "code",
     "collapsed": false,
     "input": [
      "pl.figure(figsize=(8, 6))\n",
      "pl.plot(rng,meansU)\n",
      "pl.fill_between(rng, meansU + stdsU, meansU - stdsU, alpha = 0.1, facecolor='blue')\n",
      "pl.xlabel('Number of nearest neighbours')\n",
      "pl.ylabel('Accuracy')"
     ],
     "language": "python",
     "metadata": {},
     "outputs": [
      {
       "metadata": {},
       "output_type": "pyout",
       "prompt_number": 563,
       "text": [
        "<matplotlib.text.Text at 0x306bf150>"
       ]
      },
      {
       "metadata": {},
       "output_type": "display_data",
       "png": "[encoded data removed]",
       "text": [
        "<matplotlib.figure.Figure at 0x154feeb0>"
       ]
      }
     ],
     "prompt_number": 563
    },
    {
     "cell_type": "markdown",
     "metadata": {},
     "source": [
      "\u041c\u043e\u0436\u0435\u043c \u0441\u043a\u0430\u0437\u0430\u0442\u044c, \u0447\u0442\u043e \u043e\u043f\u0442\u0438\u043c\u0430\u043b\u044c\u043d\u043e\u0435 \u043a\u043e\u043b\u0438\u0447\u0435\u0441\u0442\u0432\u043e \u0441\u043e\u0441\u0435\u0434\u0435\u0439 - \u043f\u043e\u0440\u044f\u0434\u043a\u0430 15 (\u0434\u0430\u043b\u044c\u043d\u0435\u0439\u0448\u0435\u0435 \u0443\u0432\u0435\u043b\u0438\u0447\u0435\u043d\u0438\u0435 \u0438\u0445 \u0447\u0438\u0441\u043b\u0430 \u043d\u0435 \u043f\u0440\u0438\u0432\u043e\u0434\u0438\u0442 \u043a \u0437\u0430\u043c\u0435\u0442\u043d\u043e\u043c\u0443 \u0443\u043b\u0443\u0447\u0448\u0435\u043d\u0438\u044e)"
     ]
    }
   ],
   "metadata": {}
  }
 ]
}